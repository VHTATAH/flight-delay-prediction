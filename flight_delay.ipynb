{
 "cells": [
  {
   "cell_type": "code",
   "execution_count": 209,
   "metadata": {},
   "outputs": [],
   "source": [
    "import matplotlib.pyplot as plt\n",
    "import seaborn as sns\n",
    "import pandas as pd\n",
    "import numpy as np\n",
    "import math\n",
    "import statsmodels.api as sm\n",
    "import statsmodels.formula.api as smf\n",
    "from sklearn import preprocessing\n",
    "from sklearn.model_selection import train_test_split\n",
    "from sklearn.linear_model import LogisticRegression, LinearRegression\n",
    "from sklearn import metrics\n",
    "from sklearn.metrics import classification_report\n",
    "from sklearn.ensemble import (RandomForestClassifier, GradientBoostingClassifier, GradientBoostingRegressor)\n",
    "from sklearn.feature_selection import SelectFromModel\n",
    "from sklearn.metrics import roc_auc_score\n",
    "from sklearn.metrics import roc_curve\n",
    "from sklearn.metrics import confusion_matrix\n",
    "from sklearn.metrics import precision_score\n",
    "from sklearn.metrics import recall_score\n",
    "from sklearn.model_selection import cross_val_score"
   ]
  },
  {
   "cell_type": "markdown",
   "metadata": {},
   "source": [
    "## Downloading Dataset:"
   ]
  },
  {
   "cell_type": "code",
   "execution_count": 314,
   "metadata": {},
   "outputs": [],
   "source": [
    "# https://www.transportation.gov\n",
    "# https://www.kaggle.com/abdurrehmankhalid/delayedflights\n",
    "data = pd.read_csv('data/DelayedFlights.csv')"
   ]
  },
  {
   "cell_type": "code",
   "execution_count": 211,
   "metadata": {},
   "outputs": [
    {
     "data": {
      "text/plain": [
       "(1936758, 30)"
      ]
     },
     "execution_count": 211,
     "metadata": {},
     "output_type": "execute_result"
    }
   ],
   "source": [
    "data.shape"
   ]
  },
  {
   "cell_type": "markdown",
   "metadata": {},
   "source": [
    "## Cleaning the Dataset:"
   ]
  },
  {
   "cell_type": "code",
   "execution_count": 212,
   "metadata": {},
   "outputs": [
    {
     "data": {
      "text/plain": [
       "-41.0"
      ]
     },
     "execution_count": 212,
     "metadata": {},
     "output_type": "execute_result"
    }
   ],
   "source": [
    "# Only interested in Boston Logan Airport destination:\n",
    "boston_df = data[data.Dest == 'BOS']\n",
    "boston_df.ArrDelay.min()"
   ]
  },
  {
   "cell_type": "code",
   "execution_count": 213,
   "metadata": {},
   "outputs": [
    {
     "data": {
      "text/plain": [
       "(31961, 30)"
      ]
     },
     "execution_count": 213,
     "metadata": {},
     "output_type": "execute_result"
    }
   ],
   "source": [
    "boston_df.shape"
   ]
  },
  {
   "cell_type": "code",
   "execution_count": 214,
   "metadata": {},
   "outputs": [
    {
     "data": {
      "text/plain": [
       "Unnamed: 0              0\n",
       "Year                    0\n",
       "Month                   0\n",
       "DayofMonth              0\n",
       "DayOfWeek               0\n",
       "DepTime                 0\n",
       "CRSDepTime              0\n",
       "ArrTime                63\n",
       "CRSArrTime              0\n",
       "UniqueCarrier           0\n",
       "FlightNum               0\n",
       "TailNum                 0\n",
       "ActualElapsedTime      83\n",
       "CRSElapsedTime          0\n",
       "AirTime                83\n",
       "ArrDelay               83\n",
       "DepDelay                0\n",
       "Origin                  0\n",
       "Dest                    0\n",
       "Distance                0\n",
       "TaxiIn                 63\n",
       "TaxiOut                11\n",
       "Cancelled               0\n",
       "CancellationCode        0\n",
       "Diverted                0\n",
       "CarrierDelay         9951\n",
       "WeatherDelay         9951\n",
       "NASDelay             9951\n",
       "SecurityDelay        9951\n",
       "LateAircraftDelay    9951\n",
       "dtype: int64"
      ]
     },
     "execution_count": 214,
     "metadata": {},
     "output_type": "execute_result"
    }
   ],
   "source": [
    "boston_df.isnull().sum()"
   ]
  },
  {
   "cell_type": "code",
   "execution_count": 215,
   "metadata": {},
   "outputs": [],
   "source": [
    "relative_columns = ['Month','DayOfWeek', 'UniqueCarrier', 'DepTime', 'Origin', 'ArrDelay']"
   ]
  },
  {
   "cell_type": "code",
   "execution_count": 216,
   "metadata": {},
   "outputs": [],
   "source": [
    "boston_df = boston_df[relative_columns]"
   ]
  },
  {
   "cell_type": "code",
   "execution_count": 217,
   "metadata": {},
   "outputs": [
    {
     "data": {
      "text/plain": [
       "Month             0\n",
       "DayOfWeek         0\n",
       "UniqueCarrier     0\n",
       "DepTime           0\n",
       "Origin            0\n",
       "ArrDelay         83\n",
       "dtype: int64"
      ]
     },
     "execution_count": 217,
     "metadata": {},
     "output_type": "execute_result"
    }
   ],
   "source": [
    "boston_df.isnull().sum()"
   ]
  },
  {
   "cell_type": "code",
   "execution_count": 218,
   "metadata": {},
   "outputs": [
    {
     "data": {
      "text/plain": [
       "-41.0"
      ]
     },
     "execution_count": 218,
     "metadata": {},
     "output_type": "execute_result"
    }
   ],
   "source": [
    "boston_df.ArrDelay.min()"
   ]
  },
  {
   "cell_type": "code",
   "execution_count": 219,
   "metadata": {},
   "outputs": [],
   "source": [
    "boston_df.dropna(inplace = True)"
   ]
  },
  {
   "cell_type": "code",
   "execution_count": 220,
   "metadata": {},
   "outputs": [
    {
     "data": {
      "text/plain": [
       "-41.0"
      ]
     },
     "execution_count": 220,
     "metadata": {},
     "output_type": "execute_result"
    }
   ],
   "source": [
    "boston_df.ArrDelay.min()"
   ]
  },
  {
   "cell_type": "code",
   "execution_count": 221,
   "metadata": {},
   "outputs": [
    {
     "data": {
      "text/plain": [
       "Month            0\n",
       "DayOfWeek        0\n",
       "UniqueCarrier    0\n",
       "DepTime          0\n",
       "Origin           0\n",
       "ArrDelay         0\n",
       "dtype: int64"
      ]
     },
     "execution_count": 221,
     "metadata": {},
     "output_type": "execute_result"
    }
   ],
   "source": [
    "boston_df.isnull().sum()"
   ]
  },
  {
   "cell_type": "code",
   "execution_count": 222,
   "metadata": {},
   "outputs": [
    {
     "data": {
      "text/plain": [
       "(31878, 6)"
      ]
     },
     "execution_count": 222,
     "metadata": {},
     "output_type": "execute_result"
    }
   ],
   "source": [
    "boston_df.shape"
   ]
  },
  {
   "cell_type": "code",
   "execution_count": 223,
   "metadata": {},
   "outputs": [
    {
     "data": {
      "text/html": [
       "<div>\n",
       "<style scoped>\n",
       "    .dataframe tbody tr th:only-of-type {\n",
       "        vertical-align: middle;\n",
       "    }\n",
       "\n",
       "    .dataframe tbody tr th {\n",
       "        vertical-align: top;\n",
       "    }\n",
       "\n",
       "    .dataframe thead th {\n",
       "        text-align: right;\n",
       "    }\n",
       "</style>\n",
       "<table border=\"1\" class=\"dataframe\">\n",
       "  <thead>\n",
       "    <tr style=\"text-align: right;\">\n",
       "      <th></th>\n",
       "      <th>Month</th>\n",
       "      <th>DayOfWeek</th>\n",
       "      <th>UniqueCarrier</th>\n",
       "      <th>DepTime</th>\n",
       "      <th>Origin</th>\n",
       "      <th>ArrDelay</th>\n",
       "    </tr>\n",
       "  </thead>\n",
       "  <tbody>\n",
       "    <tr>\n",
       "      <th>33785</th>\n",
       "      <td>1</td>\n",
       "      <td>7</td>\n",
       "      <td>XE</td>\n",
       "      <td>2024.0</td>\n",
       "      <td>CLE</td>\n",
       "      <td>109.0</td>\n",
       "    </tr>\n",
       "    <tr>\n",
       "      <th>34590</th>\n",
       "      <td>1</td>\n",
       "      <td>6</td>\n",
       "      <td>XE</td>\n",
       "      <td>2120.0</td>\n",
       "      <td>EWR</td>\n",
       "      <td>8.0</td>\n",
       "    </tr>\n",
       "    <tr>\n",
       "      <th>34875</th>\n",
       "      <td>1</td>\n",
       "      <td>1</td>\n",
       "      <td>XE</td>\n",
       "      <td>817.0</td>\n",
       "      <td>CLE</td>\n",
       "      <td>109.0</td>\n",
       "    </tr>\n",
       "    <tr>\n",
       "      <th>35047</th>\n",
       "      <td>1</td>\n",
       "      <td>4</td>\n",
       "      <td>XE</td>\n",
       "      <td>1930.0</td>\n",
       "      <td>CLE</td>\n",
       "      <td>29.0</td>\n",
       "    </tr>\n",
       "    <tr>\n",
       "      <th>36021</th>\n",
       "      <td>1</td>\n",
       "      <td>2</td>\n",
       "      <td>XE</td>\n",
       "      <td>1938.0</td>\n",
       "      <td>CLE</td>\n",
       "      <td>44.0</td>\n",
       "    </tr>\n",
       "  </tbody>\n",
       "</table>\n",
       "</div>"
      ],
      "text/plain": [
       "       Month  DayOfWeek UniqueCarrier  DepTime Origin  ArrDelay\n",
       "33785      1          7            XE   2024.0    CLE     109.0\n",
       "34590      1          6            XE   2120.0    EWR       8.0\n",
       "34875      1          1            XE    817.0    CLE     109.0\n",
       "35047      1          4            XE   1930.0    CLE      29.0\n",
       "36021      1          2            XE   1938.0    CLE      44.0"
      ]
     },
     "execution_count": 223,
     "metadata": {},
     "output_type": "execute_result"
    }
   ],
   "source": [
    "boston_df.head()"
   ]
  },
  {
   "cell_type": "code",
   "execution_count": 224,
   "metadata": {},
   "outputs": [
    {
     "data": {
      "text/plain": [
       "Index(['Month', 'DayOfWeek', 'UniqueCarrier', 'DepTime', 'Origin', 'ArrDelay'], dtype='object')"
      ]
     },
     "execution_count": 224,
     "metadata": {},
     "output_type": "execute_result"
    }
   ],
   "source": [
    "boston_df.columns"
   ]
  },
  {
   "cell_type": "markdown",
   "metadata": {},
   "source": [
    "# Changing departures time format:"
   ]
  },
  {
   "cell_type": "code",
   "execution_count": 225,
   "metadata": {},
   "outputs": [],
   "source": [
    "# Since only interested in hour of the day, changing time format to hour only:\n",
    "boston_df['DepHour'] = boston_df['DepTime'].apply(lambda x: int(x/100))"
   ]
  },
  {
   "cell_type": "code",
   "execution_count": 226,
   "metadata": {},
   "outputs": [],
   "source": [
    "# changing ArrDelay type from float to int:\n",
    "boston_df['MinDelay'] = boston_df['ArrDelay'].apply(lambda x: int(x))"
   ]
  },
  {
   "cell_type": "code",
   "execution_count": 227,
   "metadata": {},
   "outputs": [
    {
     "data": {
      "text/html": [
       "<div>\n",
       "<style scoped>\n",
       "    .dataframe tbody tr th:only-of-type {\n",
       "        vertical-align: middle;\n",
       "    }\n",
       "\n",
       "    .dataframe tbody tr th {\n",
       "        vertical-align: top;\n",
       "    }\n",
       "\n",
       "    .dataframe thead th {\n",
       "        text-align: right;\n",
       "    }\n",
       "</style>\n",
       "<table border=\"1\" class=\"dataframe\">\n",
       "  <thead>\n",
       "    <tr style=\"text-align: right;\">\n",
       "      <th></th>\n",
       "      <th>Month</th>\n",
       "      <th>DayOfWeek</th>\n",
       "      <th>UniqueCarrier</th>\n",
       "      <th>DepTime</th>\n",
       "      <th>Origin</th>\n",
       "      <th>ArrDelay</th>\n",
       "      <th>DepHour</th>\n",
       "      <th>MinDelay</th>\n",
       "    </tr>\n",
       "  </thead>\n",
       "  <tbody>\n",
       "    <tr>\n",
       "      <th>33785</th>\n",
       "      <td>1</td>\n",
       "      <td>7</td>\n",
       "      <td>XE</td>\n",
       "      <td>2024.0</td>\n",
       "      <td>CLE</td>\n",
       "      <td>109.0</td>\n",
       "      <td>20</td>\n",
       "      <td>109</td>\n",
       "    </tr>\n",
       "    <tr>\n",
       "      <th>34590</th>\n",
       "      <td>1</td>\n",
       "      <td>6</td>\n",
       "      <td>XE</td>\n",
       "      <td>2120.0</td>\n",
       "      <td>EWR</td>\n",
       "      <td>8.0</td>\n",
       "      <td>21</td>\n",
       "      <td>8</td>\n",
       "    </tr>\n",
       "    <tr>\n",
       "      <th>34875</th>\n",
       "      <td>1</td>\n",
       "      <td>1</td>\n",
       "      <td>XE</td>\n",
       "      <td>817.0</td>\n",
       "      <td>CLE</td>\n",
       "      <td>109.0</td>\n",
       "      <td>8</td>\n",
       "      <td>109</td>\n",
       "    </tr>\n",
       "    <tr>\n",
       "      <th>35047</th>\n",
       "      <td>1</td>\n",
       "      <td>4</td>\n",
       "      <td>XE</td>\n",
       "      <td>1930.0</td>\n",
       "      <td>CLE</td>\n",
       "      <td>29.0</td>\n",
       "      <td>19</td>\n",
       "      <td>29</td>\n",
       "    </tr>\n",
       "    <tr>\n",
       "      <th>36021</th>\n",
       "      <td>1</td>\n",
       "      <td>2</td>\n",
       "      <td>XE</td>\n",
       "      <td>1938.0</td>\n",
       "      <td>CLE</td>\n",
       "      <td>44.0</td>\n",
       "      <td>19</td>\n",
       "      <td>44</td>\n",
       "    </tr>\n",
       "  </tbody>\n",
       "</table>\n",
       "</div>"
      ],
      "text/plain": [
       "       Month  DayOfWeek UniqueCarrier  DepTime Origin  ArrDelay  DepHour  \\\n",
       "33785      1          7            XE   2024.0    CLE     109.0       20   \n",
       "34590      1          6            XE   2120.0    EWR       8.0       21   \n",
       "34875      1          1            XE    817.0    CLE     109.0        8   \n",
       "35047      1          4            XE   1930.0    CLE      29.0       19   \n",
       "36021      1          2            XE   1938.0    CLE      44.0       19   \n",
       "\n",
       "       MinDelay  \n",
       "33785       109  \n",
       "34590         8  \n",
       "34875       109  \n",
       "35047        29  \n",
       "36021        44  "
      ]
     },
     "execution_count": 227,
     "metadata": {},
     "output_type": "execute_result"
    }
   ],
   "source": [
    "boston_df.head()"
   ]
  },
  {
   "cell_type": "code",
   "execution_count": 228,
   "metadata": {},
   "outputs": [],
   "source": [
    "# Dropping unnecessary columns: \n",
    "boston_df.drop(columns = ['ArrDelay', 'DepTime'], axis = 1, inplace = True)"
   ]
  },
  {
   "cell_type": "code",
   "execution_count": 229,
   "metadata": {},
   "outputs": [],
   "source": [
    "# Resetting index and dropping the old one: \n",
    "boston_df.reset_index(drop = True, inplace = True)"
   ]
  },
  {
   "cell_type": "code",
   "execution_count": 230,
   "metadata": {},
   "outputs": [
    {
     "data": {
      "text/html": [
       "<div>\n",
       "<style scoped>\n",
       "    .dataframe tbody tr th:only-of-type {\n",
       "        vertical-align: middle;\n",
       "    }\n",
       "\n",
       "    .dataframe tbody tr th {\n",
       "        vertical-align: top;\n",
       "    }\n",
       "\n",
       "    .dataframe thead th {\n",
       "        text-align: right;\n",
       "    }\n",
       "</style>\n",
       "<table border=\"1\" class=\"dataframe\">\n",
       "  <thead>\n",
       "    <tr style=\"text-align: right;\">\n",
       "      <th></th>\n",
       "      <th>Month</th>\n",
       "      <th>DayOfWeek</th>\n",
       "      <th>UniqueCarrier</th>\n",
       "      <th>Origin</th>\n",
       "      <th>DepHour</th>\n",
       "      <th>MinDelay</th>\n",
       "    </tr>\n",
       "  </thead>\n",
       "  <tbody>\n",
       "    <tr>\n",
       "      <th>0</th>\n",
       "      <td>1</td>\n",
       "      <td>7</td>\n",
       "      <td>XE</td>\n",
       "      <td>CLE</td>\n",
       "      <td>20</td>\n",
       "      <td>109</td>\n",
       "    </tr>\n",
       "    <tr>\n",
       "      <th>1</th>\n",
       "      <td>1</td>\n",
       "      <td>6</td>\n",
       "      <td>XE</td>\n",
       "      <td>EWR</td>\n",
       "      <td>21</td>\n",
       "      <td>8</td>\n",
       "    </tr>\n",
       "    <tr>\n",
       "      <th>2</th>\n",
       "      <td>1</td>\n",
       "      <td>1</td>\n",
       "      <td>XE</td>\n",
       "      <td>CLE</td>\n",
       "      <td>8</td>\n",
       "      <td>109</td>\n",
       "    </tr>\n",
       "    <tr>\n",
       "      <th>3</th>\n",
       "      <td>1</td>\n",
       "      <td>4</td>\n",
       "      <td>XE</td>\n",
       "      <td>CLE</td>\n",
       "      <td>19</td>\n",
       "      <td>29</td>\n",
       "    </tr>\n",
       "    <tr>\n",
       "      <th>4</th>\n",
       "      <td>1</td>\n",
       "      <td>2</td>\n",
       "      <td>XE</td>\n",
       "      <td>CLE</td>\n",
       "      <td>19</td>\n",
       "      <td>44</td>\n",
       "    </tr>\n",
       "  </tbody>\n",
       "</table>\n",
       "</div>"
      ],
      "text/plain": [
       "   Month  DayOfWeek UniqueCarrier Origin  DepHour  MinDelay\n",
       "0      1          7            XE    CLE       20       109\n",
       "1      1          6            XE    EWR       21         8\n",
       "2      1          1            XE    CLE        8       109\n",
       "3      1          4            XE    CLE       19        29\n",
       "4      1          2            XE    CLE       19        44"
      ]
     },
     "execution_count": 230,
     "metadata": {},
     "output_type": "execute_result"
    }
   ],
   "source": [
    "# Clean data:\n",
    "boston_df.head()"
   ]
  },
  {
   "cell_type": "code",
   "execution_count": 231,
   "metadata": {},
   "outputs": [
    {
     "data": {
      "text/plain": [
       "Index(['Month', 'DayOfWeek', 'UniqueCarrier', 'Origin', 'DepHour', 'MinDelay'], dtype='object')"
      ]
     },
     "execution_count": 231,
     "metadata": {},
     "output_type": "execute_result"
    }
   ],
   "source": [
    "boston_df.columns"
   ]
  },
  {
   "cell_type": "markdown",
   "metadata": {},
   "source": [
    "# Visualization:"
   ]
  },
  {
   "cell_type": "code",
   "execution_count": 232,
   "metadata": {},
   "outputs": [],
   "source": [
    "# The flight is considered to be delayed when departure time was 30 minutes later than scheduled time:\n",
    "# Avg_dep_del data frame represents 6 highest average delayed time by airline \n",
    "Avg_dep_del = boston_df[boston_df.MinDelay > 30].groupby('UniqueCarrier').mean().nlargest(6, 'MinDelay')['MinDelay']"
   ]
  },
  {
   "cell_type": "code",
   "execution_count": 233,
   "metadata": {},
   "outputs": [
    {
     "data": {
      "text/plain": [
       "UniqueCarrier\n",
       "AS    121.690476\n",
       "YV    113.834437\n",
       "B6     98.491259\n",
       "XE     92.738095\n",
       "OH     90.044085\n",
       "UA     89.526148\n",
       "Name: MinDelay, dtype: float64"
      ]
     },
     "execution_count": 233,
     "metadata": {},
     "output_type": "execute_result"
    }
   ],
   "source": [
    "Avg_dep_del"
   ]
  },
  {
   "cell_type": "code",
   "execution_count": 234,
   "metadata": {},
   "outputs": [
    {
     "data": {
      "image/png": "[encoded data removed]",
      "text/plain": [
       "<Figure size 864x432 with 1 Axes>"
      ]
     },
     "metadata": {
      "needs_background": "light"
     },
     "output_type": "display_data"
    }
   ],
   "source": [
    "# Plotting:\n",
    "plt.figure(figsize = (12,6))\n",
    "plt.style.use('tableau-colorblind10')\n",
    "x = ['Air Shuttle','Express Jet','PSA Airlines','Endeavor','JetBlue','Continental']\n",
    "x_indexes = np.arange(len(x))\n",
    "y = Avg_dep_del\n",
    "plt.bar(x_indexes, y, color=\"#008fd5\", alpha = 0.5)\n",
    "plt.xticks(ticks = x_indexes, labels = x,size = 20)\n",
    "plt.title(\"Average Arrival Delay by Carrier\", size = 20)\n",
    "plt.ylabel(\"Minutes Delayed\", size = 18)\n",
    "plt.gcf().autofmt_xdate()\n",
    "#plt.xticks(['Air Shuttle','Express Jet','PSA Airlines','Endeavor','JetBlue','Continental'], size = 18)\n",
    "plt.tight_layout()\n",
    "plt.grid(False)\n",
    "plt.savefig('img/Avg_dep_del.png')\n",
    "plt.show()"
   ]
  },
  {
   "cell_type": "code",
   "execution_count": 235,
   "metadata": {},
   "outputs": [],
   "source": [
    "# Adding a column to boston_df where 1 represents when the flight was delayed and 0 when it was not:\n",
    "boston_df['Delayed'] = boston_df['MinDelay'].apply(lambda x: x > 30).replace((True, False), (1, 0))"
   ]
  },
  {
   "cell_type": "code",
   "execution_count": 236,
   "metadata": {},
   "outputs": [],
   "source": [
    "# The total number of delayed flights by day of the week:\n",
    "weekday_delayed = boston_df.groupby('DayOfWeek').sum()['Delayed']"
   ]
  },
  {
   "cell_type": "code",
   "execution_count": 237,
   "metadata": {},
   "outputs": [],
   "source": [
    "# The total number of flights by day of the week:\n",
    "weekday_total = boston_df.groupby('DayOfWeek').count()['Delayed']"
   ]
  },
  {
   "cell_type": "code",
   "execution_count": 238,
   "metadata": {},
   "outputs": [
    {
     "data": {
      "image/png": "[encoded data removed]",
      "text/plain": [
       "<Figure size 864x432 with 1 Axes>"
      ]
     },
     "metadata": {
      "needs_background": "light"
     },
     "output_type": "display_data"
    }
   ],
   "source": [
    "plt.figure(figsize = (12,6))\n",
    "plt.style.use('tableau-colorblind10')\n",
    "x = weekday_delayed.index\n",
    "x_indexes = list(weekday_total.index)\n",
    "y = (weekday_delayed/weekday_total) * 100\n",
    "plt.bar(x_indexes, y, color=\"#008fd5\", alpha = 0.5)\n",
    "plt.title(\"% Delays by Day of the Week\", size = 20)\n",
    "plt.ylabel(\"% Delays\", size = 18)\n",
    "plt.xlabel(\"Days of Week\", size = 18)\n",
    "plt.gcf().autofmt_xdate()\n",
    "plt.tight_layout()\n",
    "plt.grid(False)\n",
    "plt.savefig('img/week day % dalays.png')\n",
    "plt.show()"
   ]
  },
  {
   "cell_type": "code",
   "execution_count": 239,
   "metadata": {},
   "outputs": [],
   "source": [
    "# The total number of delayed flights by month:\n",
    "monthly_delayed = boston_df.groupby('Month').sum()['Delayed']"
   ]
  },
  {
   "cell_type": "code",
   "execution_count": 240,
   "metadata": {},
   "outputs": [],
   "source": [
    "# The total number of flights by month:\n",
    "monthly_total = boston_df.groupby('Month').count()['Delayed']"
   ]
  },
  {
   "cell_type": "code",
   "execution_count": 241,
   "metadata": {},
   "outputs": [
    {
     "data": {
      "image/png": "[encoded data removed]",
      "text/plain": [
       "<Figure size 864x432 with 1 Axes>"
      ]
     },
     "metadata": {
      "needs_background": "light"
     },
     "output_type": "display_data"
    }
   ],
   "source": [
    "plt.figure(figsize = (12,6))\n",
    "plt.style.use('tableau-colorblind10')\n",
    "x = ['January','February','March','April','May','June', 'July','August', 'September','October','Novermber','December']\n",
    "y = (monthly_delayed/monthly_total) * 100\n",
    "plt.bar(x, y, color=\"#008fd5\", alpha = 0.5)\n",
    "plt.title(\"% of Arrival Delays by Month\", size = 20)\n",
    "plt.ylabel(\"% Delays\", size = 18)\n",
    "plt.gcf().autofmt_xdate()\n",
    "plt.tight_layout()\n",
    "plt.grid(False)\n",
    "plt.savefig('img/month % delays.png')\n",
    "plt.show()"
   ]
  },
  {
   "cell_type": "code",
   "execution_count": 242,
   "metadata": {},
   "outputs": [],
   "source": [
    "# The total number of delayed flights by hour:\n",
    "hourly_delayed = boston_df.groupby('DepHour').sum()['Delayed']"
   ]
  },
  {
   "cell_type": "code",
   "execution_count": 243,
   "metadata": {},
   "outputs": [],
   "source": [
    "# The total number of flights by hour:\n",
    "hourly_total = boston_df.groupby('DepHour').count()['Delayed']"
   ]
  },
  {
   "cell_type": "code",
   "execution_count": 244,
   "metadata": {},
   "outputs": [
    {
     "data": {
      "image/png": "[encoded data removed]",
      "text/plain": [
       "<Figure size 864x432 with 1 Axes>"
      ]
     },
     "metadata": {
      "needs_background": "light"
     },
     "output_type": "display_data"
    }
   ],
   "source": [
    "plt.figure(figsize = (12,6))\n",
    "plt.style.use('tableau-colorblind10')\n",
    "x = ['Midnight','1 am','2 am','3 am','4 am','5 am', '6 am','7 am', '8 am','9 am','10 am','11 am', '12 pm', '1 pm', '2 pm', '3 pm', '4 pm', '5 pm', '6 pm', '7 pm', '8 pm', '9 pm', '10 pm', '11 pm', '0 am ']\n",
    "y = hourly_delayed\n",
    "plt.bar(x, y, color=\"#008fd5\", alpha = 0.5)\n",
    "plt.title(\"Total Delays by Hour\", size = 20)\n",
    "plt.ylabel(\"Delays\", size = 18)\n",
    "plt.gcf().autofmt_xdate()\n",
    "plt.tight_layout()\n",
    "plt.grid(False)\n",
    "plt.savefig('img/hour delays.png')\n",
    "plt.show()"
   ]
  },
  {
   "cell_type": "code",
   "execution_count": 245,
   "metadata": {},
   "outputs": [],
   "source": [
    "# Total number of delays by carrier:\n",
    "delay_carrier = boston_df.groupby('UniqueCarrier').sum().nlargest(6, 'Delayed')['Delayed']"
   ]
  },
  {
   "cell_type": "code",
   "execution_count": 246,
   "metadata": {},
   "outputs": [
    {
     "data": {
      "image/png": "[encoded data removed]",
      "text/plain": [
       "<Figure size 864x432 with 1 Axes>"
      ]
     },
     "metadata": {
      "needs_background": "light"
     },
     "output_type": "display_data"
    }
   ],
   "source": [
    "plt.figure(figsize = (12,6))\n",
    "plt.style.use('tableau-colorblind10')\n",
    "x = ['JetBlue','American','PSA Airlines','United','Envoy','US']\n",
    "x_indexes = np.arange(len(x))\n",
    "y = delay_carrier\n",
    "plt.bar(x_indexes, y, color=\"#008fd5\", alpha = 0.5)\n",
    "plt.xticks(ticks = x_indexes, labels = x,size = 15)\n",
    "plt.title(\"Total Number of Delays by Carrier\", size = 20)\n",
    "plt.ylabel(\"Minutes Delayed\", size = 18)\n",
    "plt.gcf().autofmt_xdate()\n",
    "plt.tight_layout()\n",
    "plt.grid(False)\n",
    "plt.savefig('img/delays by carrier.png')\n",
    "plt.show()"
   ]
  },
  {
   "cell_type": "markdown",
   "metadata": {},
   "source": [
    "# Predicting Delays:"
   ]
  },
  {
   "cell_type": "markdown",
   "metadata": {},
   "source": [
    "## Getting Dummie Values for Origin and Carrier Columns:"
   ]
  },
  {
   "cell_type": "code",
   "execution_count": 247,
   "metadata": {},
   "outputs": [
    {
     "data": {
      "text/plain": [
       "Month             int64\n",
       "DayOfWeek         int64\n",
       "UniqueCarrier    object\n",
       "Origin           object\n",
       "DepHour           int64\n",
       "MinDelay          int64\n",
       "Delayed           int64\n",
       "dtype: object"
      ]
     },
     "execution_count": 247,
     "metadata": {},
     "output_type": "execute_result"
    }
   ],
   "source": [
    "boston_df.dtypes"
   ]
  },
  {
   "cell_type": "code",
   "execution_count": 248,
   "metadata": {},
   "outputs": [],
   "source": [
    "boston_df_dumm = pd.get_dummies(boston_df, columns = ['Origin', 'UniqueCarrier'])"
   ]
  },
  {
   "cell_type": "code",
   "execution_count": 249,
   "metadata": {},
   "outputs": [
    {
     "data": {
      "text/html": [
       "<div>\n",
       "<style scoped>\n",
       "    .dataframe tbody tr th:only-of-type {\n",
       "        vertical-align: middle;\n",
       "    }\n",
       "\n",
       "    .dataframe tbody tr th {\n",
       "        vertical-align: top;\n",
       "    }\n",
       "\n",
       "    .dataframe thead th {\n",
       "        text-align: right;\n",
       "    }\n",
       "</style>\n",
       "<table border=\"1\" class=\"dataframe\">\n",
       "  <thead>\n",
       "    <tr style=\"text-align: right;\">\n",
       "      <th></th>\n",
       "      <th>Month</th>\n",
       "      <th>DayOfWeek</th>\n",
       "      <th>DepHour</th>\n",
       "      <th>MinDelay</th>\n",
       "      <th>Delayed</th>\n",
       "      <th>Origin_ALB</th>\n",
       "      <th>Origin_ATL</th>\n",
       "      <th>Origin_AUS</th>\n",
       "      <th>Origin_BGR</th>\n",
       "      <th>Origin_BNA</th>\n",
       "      <th>...</th>\n",
       "      <th>UniqueCarrier_DL</th>\n",
       "      <th>UniqueCarrier_EV</th>\n",
       "      <th>UniqueCarrier_FL</th>\n",
       "      <th>UniqueCarrier_MQ</th>\n",
       "      <th>UniqueCarrier_NW</th>\n",
       "      <th>UniqueCarrier_OH</th>\n",
       "      <th>UniqueCarrier_UA</th>\n",
       "      <th>UniqueCarrier_US</th>\n",
       "      <th>UniqueCarrier_XE</th>\n",
       "      <th>UniqueCarrier_YV</th>\n",
       "    </tr>\n",
       "  </thead>\n",
       "  <tbody>\n",
       "    <tr>\n",
       "      <th>0</th>\n",
       "      <td>1</td>\n",
       "      <td>7</td>\n",
       "      <td>20</td>\n",
       "      <td>109</td>\n",
       "      <td>1</td>\n",
       "      <td>0</td>\n",
       "      <td>0</td>\n",
       "      <td>0</td>\n",
       "      <td>0</td>\n",
       "      <td>0</td>\n",
       "      <td>...</td>\n",
       "      <td>0</td>\n",
       "      <td>0</td>\n",
       "      <td>0</td>\n",
       "      <td>0</td>\n",
       "      <td>0</td>\n",
       "      <td>0</td>\n",
       "      <td>0</td>\n",
       "      <td>0</td>\n",
       "      <td>1</td>\n",
       "      <td>0</td>\n",
       "    </tr>\n",
       "    <tr>\n",
       "      <th>1</th>\n",
       "      <td>1</td>\n",
       "      <td>6</td>\n",
       "      <td>21</td>\n",
       "      <td>8</td>\n",
       "      <td>0</td>\n",
       "      <td>0</td>\n",
       "      <td>0</td>\n",
       "      <td>0</td>\n",
       "      <td>0</td>\n",
       "      <td>0</td>\n",
       "      <td>...</td>\n",
       "      <td>0</td>\n",
       "      <td>0</td>\n",
       "      <td>0</td>\n",
       "      <td>0</td>\n",
       "      <td>0</td>\n",
       "      <td>0</td>\n",
       "      <td>0</td>\n",
       "      <td>0</td>\n",
       "      <td>1</td>\n",
       "      <td>0</td>\n",
       "    </tr>\n",
       "    <tr>\n",
       "      <th>2</th>\n",
       "      <td>1</td>\n",
       "      <td>1</td>\n",
       "      <td>8</td>\n",
       "      <td>109</td>\n",
       "      <td>1</td>\n",
       "      <td>0</td>\n",
       "      <td>0</td>\n",
       "      <td>0</td>\n",
       "      <td>0</td>\n",
       "      <td>0</td>\n",
       "      <td>...</td>\n",
       "      <td>0</td>\n",
       "      <td>0</td>\n",
       "      <td>0</td>\n",
       "      <td>0</td>\n",
       "      <td>0</td>\n",
       "      <td>0</td>\n",
       "      <td>0</td>\n",
       "      <td>0</td>\n",
       "      <td>1</td>\n",
       "      <td>0</td>\n",
       "    </tr>\n",
       "    <tr>\n",
       "      <th>3</th>\n",
       "      <td>1</td>\n",
       "      <td>4</td>\n",
       "      <td>19</td>\n",
       "      <td>29</td>\n",
       "      <td>0</td>\n",
       "      <td>0</td>\n",
       "      <td>0</td>\n",
       "      <td>0</td>\n",
       "      <td>0</td>\n",
       "      <td>0</td>\n",
       "      <td>...</td>\n",
       "      <td>0</td>\n",
       "      <td>0</td>\n",
       "      <td>0</td>\n",
       "      <td>0</td>\n",
       "      <td>0</td>\n",
       "      <td>0</td>\n",
       "      <td>0</td>\n",
       "      <td>0</td>\n",
       "      <td>1</td>\n",
       "      <td>0</td>\n",
       "    </tr>\n",
       "    <tr>\n",
       "      <th>4</th>\n",
       "      <td>1</td>\n",
       "      <td>2</td>\n",
       "      <td>19</td>\n",
       "      <td>44</td>\n",
       "      <td>1</td>\n",
       "      <td>0</td>\n",
       "      <td>0</td>\n",
       "      <td>0</td>\n",
       "      <td>0</td>\n",
       "      <td>0</td>\n",
       "      <td>...</td>\n",
       "      <td>0</td>\n",
       "      <td>0</td>\n",
       "      <td>0</td>\n",
       "      <td>0</td>\n",
       "      <td>0</td>\n",
       "      <td>0</td>\n",
       "      <td>0</td>\n",
       "      <td>0</td>\n",
       "      <td>1</td>\n",
       "      <td>0</td>\n",
       "    </tr>\n",
       "  </tbody>\n",
       "</table>\n",
       "<p>5 rows × 85 columns</p>\n",
       "</div>"
      ],
      "text/plain": [
       "   Month  DayOfWeek  DepHour  MinDelay  Delayed  Origin_ALB  Origin_ATL  \\\n",
       "0      1          7       20       109        1           0           0   \n",
       "1      1          6       21         8        0           0           0   \n",
       "2      1          1        8       109        1           0           0   \n",
       "3      1          4       19        29        0           0           0   \n",
       "4      1          2       19        44        1           0           0   \n",
       "\n",
       "   Origin_AUS  Origin_BGR  Origin_BNA  ...  UniqueCarrier_DL  \\\n",
       "0           0           0           0  ...                 0   \n",
       "1           0           0           0  ...                 0   \n",
       "2           0           0           0  ...                 0   \n",
       "3           0           0           0  ...                 0   \n",
       "4           0           0           0  ...                 0   \n",
       "\n",
       "   UniqueCarrier_EV  UniqueCarrier_FL  UniqueCarrier_MQ  UniqueCarrier_NW  \\\n",
       "0                 0                 0                 0                 0   \n",
       "1                 0                 0                 0                 0   \n",
       "2                 0                 0                 0                 0   \n",
       "3                 0                 0                 0                 0   \n",
       "4                 0                 0                 0                 0   \n",
       "\n",
       "   UniqueCarrier_OH  UniqueCarrier_UA  UniqueCarrier_US  UniqueCarrier_XE  \\\n",
       "0                 0                 0                 0                 1   \n",
       "1                 0                 0                 0                 1   \n",
       "2                 0                 0                 0                 1   \n",
       "3                 0                 0                 0                 1   \n",
       "4                 0                 0                 0                 1   \n",
       "\n",
       "   UniqueCarrier_YV  \n",
       "0                 0  \n",
       "1                 0  \n",
       "2                 0  \n",
       "3                 0  \n",
       "4                 0  \n",
       "\n",
       "[5 rows x 85 columns]"
      ]
     },
     "execution_count": 249,
     "metadata": {},
     "output_type": "execute_result"
    }
   ],
   "source": [
    "boston_df_dumm.head()"
   ]
  },
  {
   "cell_type": "code",
   "execution_count": 250,
   "metadata": {},
   "outputs": [
    {
     "data": {
      "text/html": [
       "<div>\n",
       "<style scoped>\n",
       "    .dataframe tbody tr th:only-of-type {\n",
       "        vertical-align: middle;\n",
       "    }\n",
       "\n",
       "    .dataframe tbody tr th {\n",
       "        vertical-align: top;\n",
       "    }\n",
       "\n",
       "    .dataframe thead th {\n",
       "        text-align: right;\n",
       "    }\n",
       "</style>\n",
       "<table border=\"1\" class=\"dataframe\">\n",
       "  <thead>\n",
       "    <tr style=\"text-align: right;\">\n",
       "      <th></th>\n",
       "      <th>Month</th>\n",
       "      <th>DayOfWeek</th>\n",
       "      <th>UniqueCarrier</th>\n",
       "      <th>Origin</th>\n",
       "      <th>DepHour</th>\n",
       "      <th>MinDelay</th>\n",
       "      <th>Delayed</th>\n",
       "    </tr>\n",
       "  </thead>\n",
       "  <tbody>\n",
       "    <tr>\n",
       "      <th>0</th>\n",
       "      <td>1</td>\n",
       "      <td>7</td>\n",
       "      <td>XE</td>\n",
       "      <td>CLE</td>\n",
       "      <td>20</td>\n",
       "      <td>109</td>\n",
       "      <td>1</td>\n",
       "    </tr>\n",
       "    <tr>\n",
       "      <th>1</th>\n",
       "      <td>1</td>\n",
       "      <td>6</td>\n",
       "      <td>XE</td>\n",
       "      <td>EWR</td>\n",
       "      <td>21</td>\n",
       "      <td>8</td>\n",
       "      <td>0</td>\n",
       "    </tr>\n",
       "    <tr>\n",
       "      <th>2</th>\n",
       "      <td>1</td>\n",
       "      <td>1</td>\n",
       "      <td>XE</td>\n",
       "      <td>CLE</td>\n",
       "      <td>8</td>\n",
       "      <td>109</td>\n",
       "      <td>1</td>\n",
       "    </tr>\n",
       "    <tr>\n",
       "      <th>3</th>\n",
       "      <td>1</td>\n",
       "      <td>4</td>\n",
       "      <td>XE</td>\n",
       "      <td>CLE</td>\n",
       "      <td>19</td>\n",
       "      <td>29</td>\n",
       "      <td>0</td>\n",
       "    </tr>\n",
       "    <tr>\n",
       "      <th>4</th>\n",
       "      <td>1</td>\n",
       "      <td>2</td>\n",
       "      <td>XE</td>\n",
       "      <td>CLE</td>\n",
       "      <td>19</td>\n",
       "      <td>44</td>\n",
       "      <td>1</td>\n",
       "    </tr>\n",
       "  </tbody>\n",
       "</table>\n",
       "</div>"
      ],
      "text/plain": [
       "   Month  DayOfWeek UniqueCarrier Origin  DepHour  MinDelay  Delayed\n",
       "0      1          7            XE    CLE       20       109        1\n",
       "1      1          6            XE    EWR       21         8        0\n",
       "2      1          1            XE    CLE        8       109        1\n",
       "3      1          4            XE    CLE       19        29        0\n",
       "4      1          2            XE    CLE       19        44        1"
      ]
     },
     "execution_count": 250,
     "metadata": {},
     "output_type": "execute_result"
    }
   ],
   "source": [
    "boston_df.head()"
   ]
  },
  {
   "cell_type": "markdown",
   "metadata": {},
   "source": [
    "## Splitting the Dataset:"
   ]
  },
  {
   "cell_type": "code",
   "execution_count": 251,
   "metadata": {},
   "outputs": [],
   "source": [
    "X = boston_df.drop(['MinDelay', 'Delayed'], axis = 1)\n",
    "y = boston_df['MinDelay']\n",
    "Xd = boston_df_dumm.drop(['MinDelay', 'Delayed'], axis = 1)\n",
    "y_bin = boston_df['Delayed']"
   ]
  },
  {
   "cell_type": "code",
   "execution_count": 252,
   "metadata": {},
   "outputs": [],
   "source": [
    "from sklearn.model_selection import train_test_split\n",
    "X_train_d, X_test_d, y_train_bin, y_test_bin = train_test_split(Xd, y_bin, test_size=0.2, random_state=42)\n",
    "X_train, X_test, y_train, y_test = train_test_split(X, y, test_size=0.2, random_state=42)"
   ]
  },
  {
   "cell_type": "markdown",
   "metadata": {},
   "source": [
    "## Scaling the Dataset:"
   ]
  },
  {
   "cell_type": "code",
   "execution_count": 253,
   "metadata": {},
   "outputs": [],
   "source": [
    "from sklearn import preprocessing\n",
    "scaler = preprocessing.StandardScaler()\n",
    "X_train_trans = scaler.fit(X_train_d).transform(X_train_d)\n",
    "X_test_trans = scaler.transform(X_test_d)"
   ]
  },
  {
   "cell_type": "markdown",
   "metadata": {},
   "source": [
    "## Calculating P Values and CI's:"
   ]
  },
  {
   "cell_type": "code",
   "execution_count": 254,
   "metadata": {},
   "outputs": [
    {
     "data": {
      "text/html": [
       "<div>\n",
       "<style scoped>\n",
       "    .dataframe tbody tr th:only-of-type {\n",
       "        vertical-align: middle;\n",
       "    }\n",
       "\n",
       "    .dataframe tbody tr th {\n",
       "        vertical-align: top;\n",
       "    }\n",
       "\n",
       "    .dataframe thead th {\n",
       "        text-align: right;\n",
       "    }\n",
       "</style>\n",
       "<table border=\"1\" class=\"dataframe\">\n",
       "  <thead>\n",
       "    <tr style=\"text-align: right;\">\n",
       "      <th></th>\n",
       "      <th>Month</th>\n",
       "      <th>DayOfWeek</th>\n",
       "      <th>DepHour</th>\n",
       "      <th>MinDelay</th>\n",
       "      <th>Delayed</th>\n",
       "    </tr>\n",
       "  </thead>\n",
       "  <tbody>\n",
       "    <tr>\n",
       "      <th>count</th>\n",
       "      <td>31878.000000</td>\n",
       "      <td>31878.000000</td>\n",
       "      <td>31878.000000</td>\n",
       "      <td>31878.00000</td>\n",
       "      <td>31878.000000</td>\n",
       "    </tr>\n",
       "    <tr>\n",
       "      <th>mean</th>\n",
       "      <td>6.213752</td>\n",
       "      <td>3.977633</td>\n",
       "      <td>15.561955</td>\n",
       "      <td>48.90426</td>\n",
       "      <td>0.502165</td>\n",
       "    </tr>\n",
       "    <tr>\n",
       "      <th>std</th>\n",
       "      <td>3.346439</td>\n",
       "      <td>1.995879</td>\n",
       "      <td>4.744087</td>\n",
       "      <td>59.11616</td>\n",
       "      <td>0.500003</td>\n",
       "    </tr>\n",
       "    <tr>\n",
       "      <th>min</th>\n",
       "      <td>1.000000</td>\n",
       "      <td>1.000000</td>\n",
       "      <td>0.000000</td>\n",
       "      <td>-41.00000</td>\n",
       "      <td>0.000000</td>\n",
       "    </tr>\n",
       "    <tr>\n",
       "      <th>25%</th>\n",
       "      <td>3.000000</td>\n",
       "      <td>2.000000</td>\n",
       "      <td>12.000000</td>\n",
       "      <td>10.00000</td>\n",
       "      <td>0.000000</td>\n",
       "    </tr>\n",
       "    <tr>\n",
       "      <th>50%</th>\n",
       "      <td>6.000000</td>\n",
       "      <td>4.000000</td>\n",
       "      <td>16.000000</td>\n",
       "      <td>31.00000</td>\n",
       "      <td>1.000000</td>\n",
       "    </tr>\n",
       "    <tr>\n",
       "      <th>75%</th>\n",
       "      <td>9.000000</td>\n",
       "      <td>6.000000</td>\n",
       "      <td>19.000000</td>\n",
       "      <td>69.00000</td>\n",
       "      <td>1.000000</td>\n",
       "    </tr>\n",
       "    <tr>\n",
       "      <th>max</th>\n",
       "      <td>12.000000</td>\n",
       "      <td>7.000000</td>\n",
       "      <td>24.000000</td>\n",
       "      <td>927.00000</td>\n",
       "      <td>1.000000</td>\n",
       "    </tr>\n",
       "  </tbody>\n",
       "</table>\n",
       "</div>"
      ],
      "text/plain": [
       "              Month     DayOfWeek       DepHour     MinDelay       Delayed\n",
       "count  31878.000000  31878.000000  31878.000000  31878.00000  31878.000000\n",
       "mean       6.213752      3.977633     15.561955     48.90426      0.502165\n",
       "std        3.346439      1.995879      4.744087     59.11616      0.500003\n",
       "min        1.000000      1.000000      0.000000    -41.00000      0.000000\n",
       "25%        3.000000      2.000000     12.000000     10.00000      0.000000\n",
       "50%        6.000000      4.000000     16.000000     31.00000      1.000000\n",
       "75%        9.000000      6.000000     19.000000     69.00000      1.000000\n",
       "max       12.000000      7.000000     24.000000    927.00000      1.000000"
      ]
     },
     "execution_count": 254,
     "metadata": {},
     "output_type": "execute_result"
    }
   ],
   "source": [
    "boston_df.describe()"
   ]
  },
  {
   "cell_type": "code",
   "execution_count": 258,
   "metadata": {},
   "outputs": [
    {
     "data": {
      "text/html": [
       "<div>\n",
       "<style scoped>\n",
       "    .dataframe tbody tr th:only-of-type {\n",
       "        vertical-align: middle;\n",
       "    }\n",
       "\n",
       "    .dataframe tbody tr th {\n",
       "        vertical-align: top;\n",
       "    }\n",
       "\n",
       "    .dataframe thead th {\n",
       "        text-align: right;\n",
       "    }\n",
       "</style>\n",
       "<table border=\"1\" class=\"dataframe\">\n",
       "  <thead>\n",
       "    <tr style=\"text-align: right;\">\n",
       "      <th></th>\n",
       "      <th>Month</th>\n",
       "      <th>DayOfWeek</th>\n",
       "      <th>UniqueCarrier</th>\n",
       "      <th>Origin</th>\n",
       "      <th>DepHour</th>\n",
       "      <th>MinDelay</th>\n",
       "      <th>Delayed</th>\n",
       "    </tr>\n",
       "  </thead>\n",
       "  <tbody>\n",
       "    <tr>\n",
       "      <th>0</th>\n",
       "      <td>1</td>\n",
       "      <td>7</td>\n",
       "      <td>XE</td>\n",
       "      <td>CLE</td>\n",
       "      <td>20</td>\n",
       "      <td>109</td>\n",
       "      <td>1</td>\n",
       "    </tr>\n",
       "    <tr>\n",
       "      <th>1</th>\n",
       "      <td>1</td>\n",
       "      <td>6</td>\n",
       "      <td>XE</td>\n",
       "      <td>EWR</td>\n",
       "      <td>21</td>\n",
       "      <td>8</td>\n",
       "      <td>0</td>\n",
       "    </tr>\n",
       "    <tr>\n",
       "      <th>2</th>\n",
       "      <td>1</td>\n",
       "      <td>1</td>\n",
       "      <td>XE</td>\n",
       "      <td>CLE</td>\n",
       "      <td>8</td>\n",
       "      <td>109</td>\n",
       "      <td>1</td>\n",
       "    </tr>\n",
       "    <tr>\n",
       "      <th>3</th>\n",
       "      <td>1</td>\n",
       "      <td>4</td>\n",
       "      <td>XE</td>\n",
       "      <td>CLE</td>\n",
       "      <td>19</td>\n",
       "      <td>29</td>\n",
       "      <td>0</td>\n",
       "    </tr>\n",
       "    <tr>\n",
       "      <th>4</th>\n",
       "      <td>1</td>\n",
       "      <td>2</td>\n",
       "      <td>XE</td>\n",
       "      <td>CLE</td>\n",
       "      <td>19</td>\n",
       "      <td>44</td>\n",
       "      <td>1</td>\n",
       "    </tr>\n",
       "    <tr>\n",
       "      <th>...</th>\n",
       "      <td>...</td>\n",
       "      <td>...</td>\n",
       "      <td>...</td>\n",
       "      <td>...</td>\n",
       "      <td>...</td>\n",
       "      <td>...</td>\n",
       "      <td>...</td>\n",
       "    </tr>\n",
       "    <tr>\n",
       "      <th>31873</th>\n",
       "      <td>12</td>\n",
       "      <td>5</td>\n",
       "      <td>DL</td>\n",
       "      <td>MCO</td>\n",
       "      <td>19</td>\n",
       "      <td>35</td>\n",
       "      <td>1</td>\n",
       "    </tr>\n",
       "    <tr>\n",
       "      <th>31874</th>\n",
       "      <td>12</td>\n",
       "      <td>5</td>\n",
       "      <td>DL</td>\n",
       "      <td>TPA</td>\n",
       "      <td>11</td>\n",
       "      <td>0</td>\n",
       "      <td>0</td>\n",
       "    </tr>\n",
       "    <tr>\n",
       "      <th>31875</th>\n",
       "      <td>12</td>\n",
       "      <td>5</td>\n",
       "      <td>DL</td>\n",
       "      <td>TPA</td>\n",
       "      <td>19</td>\n",
       "      <td>39</td>\n",
       "      <td>1</td>\n",
       "    </tr>\n",
       "    <tr>\n",
       "      <th>31876</th>\n",
       "      <td>12</td>\n",
       "      <td>5</td>\n",
       "      <td>DL</td>\n",
       "      <td>SLC</td>\n",
       "      <td>16</td>\n",
       "      <td>14</td>\n",
       "      <td>0</td>\n",
       "    </tr>\n",
       "    <tr>\n",
       "      <th>31877</th>\n",
       "      <td>12</td>\n",
       "      <td>6</td>\n",
       "      <td>DL</td>\n",
       "      <td>JFK</td>\n",
       "      <td>17</td>\n",
       "      <td>19</td>\n",
       "      <td>0</td>\n",
       "    </tr>\n",
       "  </tbody>\n",
       "</table>\n",
       "<p>31878 rows × 7 columns</p>\n",
       "</div>"
      ],
      "text/plain": [
       "       Month  DayOfWeek UniqueCarrier Origin  DepHour  MinDelay  Delayed\n",
       "0          1          7            XE    CLE       20       109        1\n",
       "1          1          6            XE    EWR       21         8        0\n",
       "2          1          1            XE    CLE        8       109        1\n",
       "3          1          4            XE    CLE       19        29        0\n",
       "4          1          2            XE    CLE       19        44        1\n",
       "...      ...        ...           ...    ...      ...       ...      ...\n",
       "31873     12          5            DL    MCO       19        35        1\n",
       "31874     12          5            DL    TPA       11         0        0\n",
       "31875     12          5            DL    TPA       19        39        1\n",
       "31876     12          5            DL    SLC       16        14        0\n",
       "31877     12          6            DL    JFK       17        19        0\n",
       "\n",
       "[31878 rows x 7 columns]"
      ]
     },
     "execution_count": 258,
     "metadata": {},
     "output_type": "execute_result"
    }
   ],
   "source": [
    "boston_df"
   ]
  },
  {
   "cell_type": "code",
   "execution_count": 316,
   "metadata": {},
   "outputs": [
    {
     "ename": "PatsyError",
     "evalue": "Error evaluating factor: TypeError: 'list' object is not callable\n    MinDelay ~ C(Month) + C(DayOfWeek) + C(UniqueCarrier) + C(DepHour) + C(Origin)\n                          ^^^^^^^^^^^^",
     "output_type": "error",
     "traceback": [
      "\u001b[0;31m---------------------------------------------------------------------------\u001b[0m",
      "\u001b[0;31mTypeError\u001b[0m                                 Traceback (most recent call last)",
      "\u001b[0;32m~/anaconda3/lib/python3.7/site-packages/patsy/compat.py\u001b[0m in \u001b[0;36mcall_and_wrap_exc\u001b[0;34m(msg, origin, f, *args, **kwargs)\u001b[0m\n\u001b[1;32m     35\u001b[0m     \u001b[0;32mtry\u001b[0m\u001b[0;34m:\u001b[0m\u001b[0;34m\u001b[0m\u001b[0;34m\u001b[0m\u001b[0m\n\u001b[0;32m---> 36\u001b[0;31m         \u001b[0;32mreturn\u001b[0m \u001b[0mf\u001b[0m\u001b[0;34m(\u001b[0m\u001b[0;34m*\u001b[0m\u001b[0margs\u001b[0m\u001b[0;34m,\u001b[0m \u001b[0;34m**\u001b[0m\u001b[0mkwargs\u001b[0m\u001b[0;34m)\u001b[0m\u001b[0;34m\u001b[0m\u001b[0;34m\u001b[0m\u001b[0m\n\u001b[0m\u001b[1;32m     37\u001b[0m     \u001b[0;32mexcept\u001b[0m \u001b[0mException\u001b[0m \u001b[0;32mas\u001b[0m \u001b[0me\u001b[0m\u001b[0;34m:\u001b[0m\u001b[0;34m\u001b[0m\u001b[0;34m\u001b[0m\u001b[0m\n",
      "\u001b[0;32m~/anaconda3/lib/python3.7/site-packages/patsy/eval.py\u001b[0m in \u001b[0;36meval\u001b[0;34m(self, expr, source_name, inner_namespace)\u001b[0m\n\u001b[1;32m    165\u001b[0m         return eval(code, {}, VarLookupDict([inner_namespace]\n\u001b[0;32m--> 166\u001b[0;31m                                             + self._namespaces))\n\u001b[0m\u001b[1;32m    167\u001b[0m \u001b[0;34m\u001b[0m\u001b[0m\n",
      "\u001b[0;32m<string>\u001b[0m in \u001b[0;36m<module>\u001b[0;34m\u001b[0m\n",
      "\u001b[0;31mTypeError\u001b[0m: 'list' object is not callable",
      "\nThe above exception was the direct cause of the following exception:\n",
      "\u001b[0;31mPatsyError\u001b[0m                                Traceback (most recent call last)",
      "\u001b[0;32m<ipython-input-316-8c975cb2a884>\u001b[0m in \u001b[0;36m<module>\u001b[0;34m\u001b[0m\n\u001b[1;32m      1\u001b[0m \u001b[0my\u001b[0m \u001b[0;34m=\u001b[0m \u001b[0mboston_df\u001b[0m\u001b[0;34m[\u001b[0m\u001b[0;34m'MinDelay'\u001b[0m\u001b[0;34m]\u001b[0m\u001b[0;34m\u001b[0m\u001b[0;34m\u001b[0m\u001b[0m\n\u001b[0;32m----> 2\u001b[0;31m \u001b[0mmod\u001b[0m \u001b[0;34m=\u001b[0m \u001b[0msmf\u001b[0m\u001b[0;34m.\u001b[0m\u001b[0mols\u001b[0m\u001b[0;34m(\u001b[0m\u001b[0mformula\u001b[0m \u001b[0;34m=\u001b[0m \u001b[0;34m'MinDelay ~ C(Month) + C(DayOfWeek) + C(UniqueCarrier) + C(DepHour) + C(Origin) '\u001b[0m\u001b[0;34m,\u001b[0m \u001b[0mdata\u001b[0m \u001b[0;34m=\u001b[0m \u001b[0mboston_df\u001b[0m\u001b[0;34m)\u001b[0m\u001b[0;34m.\u001b[0m\u001b[0mfit\u001b[0m\u001b[0;34m(\u001b[0m\u001b[0;34m)\u001b[0m\u001b[0;34m\u001b[0m\u001b[0;34m\u001b[0m\u001b[0m\n\u001b[0m",
      "\u001b[0;32m~/anaconda3/lib/python3.7/site-packages/statsmodels/base/model.py\u001b[0m in \u001b[0;36mfrom_formula\u001b[0;34m(cls, formula, data, subset, drop_cols, *args, **kwargs)\u001b[0m\n\u001b[1;32m    167\u001b[0m \u001b[0;34m\u001b[0m\u001b[0m\n\u001b[1;32m    168\u001b[0m         tmp = handle_formula_data(data, None, formula, depth=eval_env,\n\u001b[0;32m--> 169\u001b[0;31m                                   missing=missing)\n\u001b[0m\u001b[1;32m    170\u001b[0m         \u001b[0;34m(\u001b[0m\u001b[0;34m(\u001b[0m\u001b[0mendog\u001b[0m\u001b[0;34m,\u001b[0m \u001b[0mexog\u001b[0m\u001b[0;34m)\u001b[0m\u001b[0;34m,\u001b[0m \u001b[0mmissing_idx\u001b[0m\u001b[0;34m,\u001b[0m \u001b[0mdesign_info\u001b[0m\u001b[0;34m)\u001b[0m \u001b[0;34m=\u001b[0m \u001b[0mtmp\u001b[0m\u001b[0;34m\u001b[0m\u001b[0;34m\u001b[0m\u001b[0m\n\u001b[1;32m    171\u001b[0m         \u001b[0mmax_endog\u001b[0m \u001b[0;34m=\u001b[0m \u001b[0mcls\u001b[0m\u001b[0;34m.\u001b[0m\u001b[0m_formula_max_endog\u001b[0m\u001b[0;34m\u001b[0m\u001b[0;34m\u001b[0m\u001b[0m\n",
      "\u001b[0;32m~/anaconda3/lib/python3.7/site-packages/statsmodels/formula/formulatools.py\u001b[0m in \u001b[0;36mhandle_formula_data\u001b[0;34m(Y, X, formula, depth, missing)\u001b[0m\n\u001b[1;32m     63\u001b[0m         \u001b[0;32mif\u001b[0m \u001b[0mdata_util\u001b[0m\u001b[0;34m.\u001b[0m\u001b[0m_is_using_pandas\u001b[0m\u001b[0;34m(\u001b[0m\u001b[0mY\u001b[0m\u001b[0;34m,\u001b[0m \u001b[0;32mNone\u001b[0m\u001b[0;34m)\u001b[0m\u001b[0;34m:\u001b[0m\u001b[0;34m\u001b[0m\u001b[0;34m\u001b[0m\u001b[0m\n\u001b[1;32m     64\u001b[0m             result = dmatrices(formula, Y, depth, return_type='dataframe',\n\u001b[0;32m---> 65\u001b[0;31m                                NA_action=na_action)\n\u001b[0m\u001b[1;32m     66\u001b[0m         \u001b[0;32melse\u001b[0m\u001b[0;34m:\u001b[0m\u001b[0;34m\u001b[0m\u001b[0;34m\u001b[0m\u001b[0m\n\u001b[1;32m     67\u001b[0m             result = dmatrices(formula, Y, depth, return_type='dataframe',\n",
      "\u001b[0;32m~/anaconda3/lib/python3.7/site-packages/patsy/highlevel.py\u001b[0m in \u001b[0;36mdmatrices\u001b[0;34m(formula_like, data, eval_env, NA_action, return_type)\u001b[0m\n\u001b[1;32m    308\u001b[0m     \u001b[0meval_env\u001b[0m \u001b[0;34m=\u001b[0m \u001b[0mEvalEnvironment\u001b[0m\u001b[0;34m.\u001b[0m\u001b[0mcapture\u001b[0m\u001b[0;34m(\u001b[0m\u001b[0meval_env\u001b[0m\u001b[0;34m,\u001b[0m \u001b[0mreference\u001b[0m\u001b[0;34m=\u001b[0m\u001b[0;36m1\u001b[0m\u001b[0;34m)\u001b[0m\u001b[0;34m\u001b[0m\u001b[0;34m\u001b[0m\u001b[0m\n\u001b[1;32m    309\u001b[0m     (lhs, rhs) = _do_highlevel_design(formula_like, data, eval_env,\n\u001b[0;32m--> 310\u001b[0;31m                                       NA_action, return_type)\n\u001b[0m\u001b[1;32m    311\u001b[0m     \u001b[0;32mif\u001b[0m \u001b[0mlhs\u001b[0m\u001b[0;34m.\u001b[0m\u001b[0mshape\u001b[0m\u001b[0;34m[\u001b[0m\u001b[0;36m1\u001b[0m\u001b[0;34m]\u001b[0m \u001b[0;34m==\u001b[0m \u001b[0;36m0\u001b[0m\u001b[0;34m:\u001b[0m\u001b[0;34m\u001b[0m\u001b[0;34m\u001b[0m\u001b[0m\n\u001b[1;32m    312\u001b[0m         \u001b[0;32mraise\u001b[0m \u001b[0mPatsyError\u001b[0m\u001b[0;34m(\u001b[0m\u001b[0;34m\"model is missing required outcome variables\"\u001b[0m\u001b[0;34m)\u001b[0m\u001b[0;34m\u001b[0m\u001b[0;34m\u001b[0m\u001b[0m\n",
      "\u001b[0;32m~/anaconda3/lib/python3.7/site-packages/patsy/highlevel.py\u001b[0m in \u001b[0;36m_do_highlevel_design\u001b[0;34m(formula_like, data, eval_env, NA_action, return_type)\u001b[0m\n\u001b[1;32m    163\u001b[0m         \u001b[0;32mreturn\u001b[0m \u001b[0miter\u001b[0m\u001b[0;34m(\u001b[0m\u001b[0;34m[\u001b[0m\u001b[0mdata\u001b[0m\u001b[0;34m]\u001b[0m\u001b[0;34m)\u001b[0m\u001b[0;34m\u001b[0m\u001b[0;34m\u001b[0m\u001b[0m\n\u001b[1;32m    164\u001b[0m     design_infos = _try_incr_builders(formula_like, data_iter_maker, eval_env,\n\u001b[0;32m--> 165\u001b[0;31m                                       NA_action)\n\u001b[0m\u001b[1;32m    166\u001b[0m     \u001b[0;32mif\u001b[0m \u001b[0mdesign_infos\u001b[0m \u001b[0;32mis\u001b[0m \u001b[0;32mnot\u001b[0m \u001b[0;32mNone\u001b[0m\u001b[0;34m:\u001b[0m\u001b[0;34m\u001b[0m\u001b[0;34m\u001b[0m\u001b[0m\n\u001b[1;32m    167\u001b[0m         return build_design_matrices(design_infos, data,\n",
      "\u001b[0;32m~/anaconda3/lib/python3.7/site-packages/patsy/highlevel.py\u001b[0m in \u001b[0;36m_try_incr_builders\u001b[0;34m(formula_like, data_iter_maker, eval_env, NA_action)\u001b[0m\n\u001b[1;32m     68\u001b[0m                                       \u001b[0mdata_iter_maker\u001b[0m\u001b[0;34m,\u001b[0m\u001b[0;34m\u001b[0m\u001b[0;34m\u001b[0m\u001b[0m\n\u001b[1;32m     69\u001b[0m                                       \u001b[0meval_env\u001b[0m\u001b[0;34m,\u001b[0m\u001b[0;34m\u001b[0m\u001b[0;34m\u001b[0m\u001b[0m\n\u001b[0;32m---> 70\u001b[0;31m                                       NA_action)\n\u001b[0m\u001b[1;32m     71\u001b[0m     \u001b[0;32melse\u001b[0m\u001b[0;34m:\u001b[0m\u001b[0;34m\u001b[0m\u001b[0;34m\u001b[0m\u001b[0m\n\u001b[1;32m     72\u001b[0m         \u001b[0;32mreturn\u001b[0m \u001b[0;32mNone\u001b[0m\u001b[0;34m\u001b[0m\u001b[0;34m\u001b[0m\u001b[0m\n",
      "\u001b[0;32m~/anaconda3/lib/python3.7/site-packages/patsy/build.py\u001b[0m in \u001b[0;36mdesign_matrix_builders\u001b[0;34m(termlists, data_iter_maker, eval_env, NA_action)\u001b[0m\n\u001b[1;32m    694\u001b[0m                                                    \u001b[0mfactor_states\u001b[0m\u001b[0;34m,\u001b[0m\u001b[0;34m\u001b[0m\u001b[0;34m\u001b[0m\u001b[0m\n\u001b[1;32m    695\u001b[0m                                                    \u001b[0mdata_iter_maker\u001b[0m\u001b[0;34m,\u001b[0m\u001b[0;34m\u001b[0m\u001b[0;34m\u001b[0m\u001b[0m\n\u001b[0;32m--> 696\u001b[0;31m                                                    NA_action)\n\u001b[0m\u001b[1;32m    697\u001b[0m     \u001b[0;31m# Now we need the factor infos, which encapsulate the knowledge of\u001b[0m\u001b[0;34m\u001b[0m\u001b[0;34m\u001b[0m\u001b[0;34m\u001b[0m\u001b[0m\n\u001b[1;32m    698\u001b[0m     \u001b[0;31m# how to turn any given factor into a chunk of data:\u001b[0m\u001b[0;34m\u001b[0m\u001b[0;34m\u001b[0m\u001b[0;34m\u001b[0m\u001b[0m\n",
      "\u001b[0;32m~/anaconda3/lib/python3.7/site-packages/patsy/build.py\u001b[0m in \u001b[0;36m_examine_factor_types\u001b[0;34m(factors, factor_states, data_iter_maker, NA_action)\u001b[0m\n\u001b[1;32m    441\u001b[0m     \u001b[0;32mfor\u001b[0m \u001b[0mdata\u001b[0m \u001b[0;32min\u001b[0m \u001b[0mdata_iter_maker\u001b[0m\u001b[0;34m(\u001b[0m\u001b[0;34m)\u001b[0m\u001b[0;34m:\u001b[0m\u001b[0;34m\u001b[0m\u001b[0;34m\u001b[0m\u001b[0m\n\u001b[1;32m    442\u001b[0m         \u001b[0;32mfor\u001b[0m \u001b[0mfactor\u001b[0m \u001b[0;32min\u001b[0m \u001b[0mlist\u001b[0m\u001b[0;34m(\u001b[0m\u001b[0mexamine_needed\u001b[0m\u001b[0;34m)\u001b[0m\u001b[0;34m:\u001b[0m\u001b[0;34m\u001b[0m\u001b[0;34m\u001b[0m\u001b[0m\n\u001b[0;32m--> 443\u001b[0;31m             \u001b[0mvalue\u001b[0m \u001b[0;34m=\u001b[0m \u001b[0mfactor\u001b[0m\u001b[0;34m.\u001b[0m\u001b[0meval\u001b[0m\u001b[0;34m(\u001b[0m\u001b[0mfactor_states\u001b[0m\u001b[0;34m[\u001b[0m\u001b[0mfactor\u001b[0m\u001b[0;34m]\u001b[0m\u001b[0;34m,\u001b[0m \u001b[0mdata\u001b[0m\u001b[0;34m)\u001b[0m\u001b[0;34m\u001b[0m\u001b[0;34m\u001b[0m\u001b[0m\n\u001b[0m\u001b[1;32m    444\u001b[0m             \u001b[0;32mif\u001b[0m \u001b[0mfactor\u001b[0m \u001b[0;32min\u001b[0m \u001b[0mcat_sniffers\u001b[0m \u001b[0;32mor\u001b[0m \u001b[0mguess_categorical\u001b[0m\u001b[0;34m(\u001b[0m\u001b[0mvalue\u001b[0m\u001b[0;34m)\u001b[0m\u001b[0;34m:\u001b[0m\u001b[0;34m\u001b[0m\u001b[0;34m\u001b[0m\u001b[0m\n\u001b[1;32m    445\u001b[0m                 \u001b[0;32mif\u001b[0m \u001b[0mfactor\u001b[0m \u001b[0;32mnot\u001b[0m \u001b[0;32min\u001b[0m \u001b[0mcat_sniffers\u001b[0m\u001b[0;34m:\u001b[0m\u001b[0;34m\u001b[0m\u001b[0;34m\u001b[0m\u001b[0m\n",
      "\u001b[0;32m~/anaconda3/lib/python3.7/site-packages/patsy/eval.py\u001b[0m in \u001b[0;36meval\u001b[0;34m(self, memorize_state, data)\u001b[0m\n\u001b[1;32m    564\u001b[0m         return self._eval(memorize_state[\"eval_code\"],\n\u001b[1;32m    565\u001b[0m                           \u001b[0mmemorize_state\u001b[0m\u001b[0;34m,\u001b[0m\u001b[0;34m\u001b[0m\u001b[0;34m\u001b[0m\u001b[0m\n\u001b[0;32m--> 566\u001b[0;31m                           data)\n\u001b[0m\u001b[1;32m    567\u001b[0m \u001b[0;34m\u001b[0m\u001b[0m\n\u001b[1;32m    568\u001b[0m     \u001b[0m__getstate__\u001b[0m \u001b[0;34m=\u001b[0m \u001b[0mno_pickling\u001b[0m\u001b[0;34m\u001b[0m\u001b[0;34m\u001b[0m\u001b[0m\n",
      "\u001b[0;32m~/anaconda3/lib/python3.7/site-packages/patsy/eval.py\u001b[0m in \u001b[0;36m_eval\u001b[0;34m(self, code, memorize_state, data)\u001b[0m\n\u001b[1;32m    549\u001b[0m                                  \u001b[0mmemorize_state\u001b[0m\u001b[0;34m[\u001b[0m\u001b[0;34m\"eval_env\"\u001b[0m\u001b[0;34m]\u001b[0m\u001b[0;34m.\u001b[0m\u001b[0meval\u001b[0m\u001b[0;34m,\u001b[0m\u001b[0;34m\u001b[0m\u001b[0;34m\u001b[0m\u001b[0m\n\u001b[1;32m    550\u001b[0m                                  \u001b[0mcode\u001b[0m\u001b[0;34m,\u001b[0m\u001b[0;34m\u001b[0m\u001b[0;34m\u001b[0m\u001b[0m\n\u001b[0;32m--> 551\u001b[0;31m                                  inner_namespace=inner_namespace)\n\u001b[0m\u001b[1;32m    552\u001b[0m \u001b[0;34m\u001b[0m\u001b[0m\n\u001b[1;32m    553\u001b[0m     \u001b[0;32mdef\u001b[0m \u001b[0mmemorize_chunk\u001b[0m\u001b[0;34m(\u001b[0m\u001b[0mself\u001b[0m\u001b[0;34m,\u001b[0m \u001b[0mstate\u001b[0m\u001b[0;34m,\u001b[0m \u001b[0mwhich_pass\u001b[0m\u001b[0;34m,\u001b[0m \u001b[0mdata\u001b[0m\u001b[0;34m)\u001b[0m\u001b[0;34m:\u001b[0m\u001b[0;34m\u001b[0m\u001b[0;34m\u001b[0m\u001b[0m\n",
      "\u001b[0;32m~/anaconda3/lib/python3.7/site-packages/patsy/compat.py\u001b[0m in \u001b[0;36mcall_and_wrap_exc\u001b[0;34m(msg, origin, f, *args, **kwargs)\u001b[0m\n\u001b[1;32m     41\u001b[0m                                  origin)\n\u001b[1;32m     42\u001b[0m             \u001b[0;31m# Use 'exec' to hide this syntax from the Python 2 parser:\u001b[0m\u001b[0;34m\u001b[0m\u001b[0;34m\u001b[0m\u001b[0;34m\u001b[0m\u001b[0m\n\u001b[0;32m---> 43\u001b[0;31m             \u001b[0mexec\u001b[0m\u001b[0;34m(\u001b[0m\u001b[0;34m\"raise new_exc from e\"\u001b[0m\u001b[0;34m)\u001b[0m\u001b[0;34m\u001b[0m\u001b[0;34m\u001b[0m\u001b[0m\n\u001b[0m\u001b[1;32m     44\u001b[0m         \u001b[0;32melse\u001b[0m\u001b[0;34m:\u001b[0m\u001b[0;34m\u001b[0m\u001b[0;34m\u001b[0m\u001b[0m\n\u001b[1;32m     45\u001b[0m             \u001b[0;31m# In python 2, we just let the original exception escape -- better\u001b[0m\u001b[0;34m\u001b[0m\u001b[0;34m\u001b[0m\u001b[0;34m\u001b[0m\u001b[0m\n",
      "\u001b[0;32m~/anaconda3/lib/python3.7/site-packages/patsy/compat.py\u001b[0m in \u001b[0;36m<module>\u001b[0;34m\u001b[0m\n",
      "\u001b[0;31mPatsyError\u001b[0m: Error evaluating factor: TypeError: 'list' object is not callable\n    MinDelay ~ C(Month) + C(DayOfWeek) + C(UniqueCarrier) + C(DepHour) + C(Origin)\n                          ^^^^^^^^^^^^"
     ]
    }
   ],
   "source": [
    "y = boston_df['MinDelay'] \n",
    "mod = smf.ols(formula = 'MinDelay ~ C(Month) + C(DayOfWeek) + C(UniqueCarrier) + C(DepHour) + C(Origin) ', data = boston_df).fit()"
   ]
  },
  {
   "cell_type": "code",
   "execution_count": 260,
   "metadata": {},
   "outputs": [
    {
     "data": {
      "text/html": [
       "<table class=\"simpletable\">\n",
       "<caption>OLS Regression Results</caption>\n",
       "<tr>\n",
       "  <th>Dep. Variable:</th>        <td>MinDelay</td>     <th>  R-squared:         </th>  <td>   0.142</td>  \n",
       "</tr>\n",
       "<tr>\n",
       "  <th>Model:</th>                   <td>OLS</td>       <th>  Adj. R-squared:    </th>  <td>   0.139</td>  \n",
       "</tr>\n",
       "<tr>\n",
       "  <th>Method:</th>             <td>Least Squares</td>  <th>  F-statistic:       </th>  <td>   44.56</td>  \n",
       "</tr>\n",
       "<tr>\n",
       "  <th>Date:</th>             <td>Sun, 17 May 2020</td> <th>  Prob (F-statistic):</th>   <td>  0.00</td>   \n",
       "</tr>\n",
       "<tr>\n",
       "  <th>Time:</th>                 <td>17:29:46</td>     <th>  Log-Likelihood:    </th> <td>-1.7284e+05</td>\n",
       "</tr>\n",
       "<tr>\n",
       "  <th>No. Observations:</th>      <td> 31878</td>      <th>  AIC:               </th>  <td>3.459e+05</td> \n",
       "</tr>\n",
       "<tr>\n",
       "  <th>Df Residuals:</th>          <td> 31759</td>      <th>  BIC:               </th>  <td>3.469e+05</td> \n",
       "</tr>\n",
       "<tr>\n",
       "  <th>Df Model:</th>              <td>   118</td>      <th>                     </th>      <td> </td>     \n",
       "</tr>\n",
       "<tr>\n",
       "  <th>Covariance Type:</th>      <td>nonrobust</td>    <th>                     </th>      <td> </td>     \n",
       "</tr>\n",
       "</table>\n",
       "<table class=\"simpletable\">\n",
       "<tr>\n",
       "             <td></td>               <th>coef</th>     <th>std err</th>      <th>t</th>      <th>P>|t|</th>  <th>[0.025</th>    <th>0.975]</th>  \n",
       "</tr>\n",
       "<tr>\n",
       "  <th>Intercept</th>              <td>  162.4285</td> <td>   56.287</td> <td>    2.886</td> <td> 0.004</td> <td>   52.103</td> <td>  272.754</td>\n",
       "</tr>\n",
       "<tr>\n",
       "  <th>C(Month)[T.2]</th>          <td>    3.7086</td> <td>    1.513</td> <td>    2.451</td> <td> 0.014</td> <td>    0.743</td> <td>    6.675</td>\n",
       "</tr>\n",
       "<tr>\n",
       "  <th>C(Month)[T.3]</th>          <td>    3.2711</td> <td>    1.490</td> <td>    2.196</td> <td> 0.028</td> <td>    0.351</td> <td>    6.191</td>\n",
       "</tr>\n",
       "<tr>\n",
       "  <th>C(Month)[T.4]</th>          <td>    7.1455</td> <td>    1.542</td> <td>    4.635</td> <td> 0.000</td> <td>    4.124</td> <td>   10.167</td>\n",
       "</tr>\n",
       "<tr>\n",
       "  <th>C(Month)[T.5]</th>          <td>    0.7857</td> <td>    1.562</td> <td>    0.503</td> <td> 0.615</td> <td>   -2.276</td> <td>    3.848</td>\n",
       "</tr>\n",
       "<tr>\n",
       "  <th>C(Month)[T.6]</th>          <td>   14.7939</td> <td>    1.452</td> <td>   10.190</td> <td> 0.000</td> <td>   11.948</td> <td>   17.640</td>\n",
       "</tr>\n",
       "<tr>\n",
       "  <th>C(Month)[T.7]</th>          <td>   18.7248</td> <td>    1.473</td> <td>   12.708</td> <td> 0.000</td> <td>   15.837</td> <td>   21.613</td>\n",
       "</tr>\n",
       "<tr>\n",
       "  <th>C(Month)[T.8]</th>          <td>   17.3273</td> <td>    1.495</td> <td>   11.589</td> <td> 0.000</td> <td>   14.397</td> <td>   20.258</td>\n",
       "</tr>\n",
       "<tr>\n",
       "  <th>C(Month)[T.9]</th>          <td>    3.9729</td> <td>    1.749</td> <td>    2.271</td> <td> 0.023</td> <td>    0.544</td> <td>    7.402</td>\n",
       "</tr>\n",
       "<tr>\n",
       "  <th>C(Month)[T.10]</th>         <td>   -4.9340</td> <td>    1.791</td> <td>   -2.755</td> <td> 0.006</td> <td>   -8.445</td> <td>   -1.423</td>\n",
       "</tr>\n",
       "<tr>\n",
       "  <th>C(Month)[T.11]</th>         <td>   12.7242</td> <td>    1.681</td> <td>    7.567</td> <td> 0.000</td> <td>    9.429</td> <td>   16.020</td>\n",
       "</tr>\n",
       "<tr>\n",
       "  <th>C(Month)[T.12]</th>         <td>   15.7050</td> <td>    1.518</td> <td>   10.347</td> <td> 0.000</td> <td>   12.730</td> <td>   18.680</td>\n",
       "</tr>\n",
       "<tr>\n",
       "  <th>C(DayOfWeek)[T.2]</th>      <td>   -0.0083</td> <td>    1.154</td> <td>   -0.007</td> <td> 0.994</td> <td>   -2.270</td> <td>    2.253</td>\n",
       "</tr>\n",
       "<tr>\n",
       "  <th>C(DayOfWeek)[T.3]</th>      <td>    2.3474</td> <td>    1.151</td> <td>    2.040</td> <td> 0.041</td> <td>    0.092</td> <td>    4.603</td>\n",
       "</tr>\n",
       "<tr>\n",
       "  <th>C(DayOfWeek)[T.4]</th>      <td>    2.0717</td> <td>    1.136</td> <td>    1.823</td> <td> 0.068</td> <td>   -0.156</td> <td>    4.299</td>\n",
       "</tr>\n",
       "<tr>\n",
       "  <th>C(DayOfWeek)[T.5]</th>      <td>    5.9128</td> <td>    1.104</td> <td>    5.354</td> <td> 0.000</td> <td>    3.748</td> <td>    8.077</td>\n",
       "</tr>\n",
       "<tr>\n",
       "  <th>C(DayOfWeek)[T.6]</th>      <td>   -0.1952</td> <td>    1.247</td> <td>   -0.157</td> <td> 0.876</td> <td>   -2.639</td> <td>    2.249</td>\n",
       "</tr>\n",
       "<tr>\n",
       "  <th>C(DayOfWeek)[T.7]</th>      <td>    6.1920</td> <td>    1.131</td> <td>    5.473</td> <td> 0.000</td> <td>    3.975</td> <td>    8.410</td>\n",
       "</tr>\n",
       "<tr>\n",
       "  <th>C(UniqueCarrier)[T.AA]</th> <td>  -29.3609</td> <td>   12.283</td> <td>   -2.390</td> <td> 0.017</td> <td>  -53.436</td> <td>   -5.286</td>\n",
       "</tr>\n",
       "<tr>\n",
       "  <th>C(UniqueCarrier)[T.AS]</th> <td>    7.7478</td> <td>   14.651</td> <td>    0.529</td> <td> 0.597</td> <td>  -20.969</td> <td>   36.464</td>\n",
       "</tr>\n",
       "<tr>\n",
       "  <th>C(UniqueCarrier)[T.B6]</th> <td>  -34.3518</td> <td>   12.066</td> <td>   -2.847</td> <td> 0.004</td> <td>  -58.002</td> <td>  -10.701</td>\n",
       "</tr>\n",
       "<tr>\n",
       "  <th>C(UniqueCarrier)[T.CO]</th> <td>  -31.8298</td> <td>   33.752</td> <td>   -0.943</td> <td> 0.346</td> <td>  -97.985</td> <td>   34.326</td>\n",
       "</tr>\n",
       "<tr>\n",
       "  <th>C(UniqueCarrier)[T.DL]</th> <td>  -36.8105</td> <td>   12.032</td> <td>   -3.059</td> <td> 0.002</td> <td>  -60.394</td> <td>  -13.227</td>\n",
       "</tr>\n",
       "<tr>\n",
       "  <th>C(UniqueCarrier)[T.EV]</th> <td>  -40.5943</td> <td>   21.086</td> <td>   -1.925</td> <td> 0.054</td> <td>  -81.923</td> <td>    0.734</td>\n",
       "</tr>\n",
       "<tr>\n",
       "  <th>C(UniqueCarrier)[T.FL]</th> <td>  -35.3324</td> <td>   12.118</td> <td>   -2.916</td> <td> 0.004</td> <td>  -59.084</td> <td>  -11.581</td>\n",
       "</tr>\n",
       "<tr>\n",
       "  <th>C(UniqueCarrier)[T.MQ]</th> <td>  -30.5852</td> <td>   12.085</td> <td>   -2.531</td> <td> 0.011</td> <td>  -54.273</td> <td>   -6.898</td>\n",
       "</tr>\n",
       "<tr>\n",
       "  <th>C(UniqueCarrier)[T.NW]</th> <td>  -14.5820</td> <td>   39.362</td> <td>   -0.370</td> <td> 0.711</td> <td>  -91.733</td> <td>   62.569</td>\n",
       "</tr>\n",
       "<tr>\n",
       "  <th>C(UniqueCarrier)[T.OH]</th> <td>  -24.2773</td> <td>   12.008</td> <td>   -2.022</td> <td> 0.043</td> <td>  -47.814</td> <td>   -0.741</td>\n",
       "</tr>\n",
       "<tr>\n",
       "  <th>C(UniqueCarrier)[T.UA]</th> <td>  -28.8505</td> <td>   12.245</td> <td>   -2.356</td> <td> 0.018</td> <td>  -52.852</td> <td>   -4.849</td>\n",
       "</tr>\n",
       "<tr>\n",
       "  <th>C(UniqueCarrier)[T.US]</th> <td>  -43.5882</td> <td>   12.105</td> <td>   -3.601</td> <td> 0.000</td> <td>  -67.315</td> <td>  -19.861</td>\n",
       "</tr>\n",
       "<tr>\n",
       "  <th>C(UniqueCarrier)[T.XE]</th> <td>  -26.9740</td> <td>   33.930</td> <td>   -0.795</td> <td> 0.427</td> <td>  -93.479</td> <td>   39.531</td>\n",
       "</tr>\n",
       "<tr>\n",
       "  <th>C(UniqueCarrier)[T.YV]</th> <td>  -17.3581</td> <td>   12.759</td> <td>   -1.361</td> <td> 0.174</td> <td>  -42.365</td> <td>    7.649</td>\n",
       "</tr>\n",
       "<tr>\n",
       "  <th>C(DepHour)[T.1]</th>        <td>   55.6328</td> <td>    5.970</td> <td>    9.319</td> <td> 0.000</td> <td>   43.931</td> <td>   67.334</td>\n",
       "</tr>\n",
       "<tr>\n",
       "  <th>C(DepHour)[T.2]</th>        <td>  113.5924</td> <td>    9.802</td> <td>   11.589</td> <td> 0.000</td> <td>   94.380</td> <td>  132.804</td>\n",
       "</tr>\n",
       "<tr>\n",
       "  <th>C(DepHour)[T.3]</th>        <td>  199.3064</td> <td>   18.519</td> <td>   10.762</td> <td> 0.000</td> <td>  163.008</td> <td>  235.605</td>\n",
       "</tr>\n",
       "<tr>\n",
       "  <th>C(DepHour)[T.4]</th>        <td>  328.1224</td> <td>   38.949</td> <td>    8.424</td> <td> 0.000</td> <td>  251.781</td> <td>  404.463</td>\n",
       "</tr>\n",
       "<tr>\n",
       "  <th>C(DepHour)[T.5]</th>        <td>  251.1887</td> <td>   31.840</td> <td>    7.889</td> <td> 0.000</td> <td>  188.781</td> <td>  313.597</td>\n",
       "</tr>\n",
       "<tr>\n",
       "  <th>C(DepHour)[T.6]</th>        <td>  -97.1008</td> <td>    4.417</td> <td>  -21.982</td> <td> 0.000</td> <td> -105.759</td> <td>  -88.443</td>\n",
       "</tr>\n",
       "<tr>\n",
       "  <th>C(DepHour)[T.7]</th>        <td>  -97.9723</td> <td>    3.512</td> <td>  -27.900</td> <td> 0.000</td> <td> -104.855</td> <td>  -91.090</td>\n",
       "</tr>\n",
       "<tr>\n",
       "  <th>C(DepHour)[T.8]</th>        <td>  -92.8989</td> <td>    3.375</td> <td>  -27.528</td> <td> 0.000</td> <td>  -99.513</td> <td>  -86.284</td>\n",
       "</tr>\n",
       "<tr>\n",
       "  <th>C(DepHour)[T.9]</th>        <td>  -86.1506</td> <td>    3.334</td> <td>  -25.842</td> <td> 0.000</td> <td>  -92.685</td> <td>  -79.616</td>\n",
       "</tr>\n",
       "<tr>\n",
       "  <th>C(DepHour)[T.10]</th>       <td>  -86.8460</td> <td>    3.227</td> <td>  -26.912</td> <td> 0.000</td> <td>  -93.171</td> <td>  -80.521</td>\n",
       "</tr>\n",
       "<tr>\n",
       "  <th>C(DepHour)[T.11]</th>       <td>  -88.0007</td> <td>    3.168</td> <td>  -27.779</td> <td> 0.000</td> <td>  -94.210</td> <td>  -81.791</td>\n",
       "</tr>\n",
       "<tr>\n",
       "  <th>C(DepHour)[T.12]</th>       <td>  -82.7964</td> <td>    3.236</td> <td>  -25.589</td> <td> 0.000</td> <td>  -89.138</td> <td>  -76.455</td>\n",
       "</tr>\n",
       "<tr>\n",
       "  <th>C(DepHour)[T.13]</th>       <td>  -84.9411</td> <td>    3.112</td> <td>  -27.294</td> <td> 0.000</td> <td>  -91.041</td> <td>  -78.841</td>\n",
       "</tr>\n",
       "<tr>\n",
       "  <th>C(DepHour)[T.14]</th>       <td>  -71.1158</td> <td>    3.164</td> <td>  -22.480</td> <td> 0.000</td> <td>  -77.316</td> <td>  -64.915</td>\n",
       "</tr>\n",
       "<tr>\n",
       "  <th>C(DepHour)[T.15]</th>       <td>  -76.1295</td> <td>    3.095</td> <td>  -24.595</td> <td> 0.000</td> <td>  -82.196</td> <td>  -70.063</td>\n",
       "</tr>\n",
       "<tr>\n",
       "  <th>C(DepHour)[T.16]</th>       <td>  -70.8796</td> <td>    3.070</td> <td>  -23.090</td> <td> 0.000</td> <td>  -76.896</td> <td>  -64.863</td>\n",
       "</tr>\n",
       "<tr>\n",
       "  <th>C(DepHour)[T.17]</th>       <td>  -67.2782</td> <td>    3.072</td> <td>  -21.902</td> <td> 0.000</td> <td>  -73.299</td> <td>  -61.257</td>\n",
       "</tr>\n",
       "<tr>\n",
       "  <th>C(DepHour)[T.18]</th>       <td>  -63.4898</td> <td>    3.091</td> <td>  -20.538</td> <td> 0.000</td> <td>  -69.549</td> <td>  -57.431</td>\n",
       "</tr>\n",
       "<tr>\n",
       "  <th>C(DepHour)[T.19]</th>       <td>  -68.9814</td> <td>    3.048</td> <td>  -22.631</td> <td> 0.000</td> <td>  -74.956</td> <td>  -63.007</td>\n",
       "</tr>\n",
       "<tr>\n",
       "  <th>C(DepHour)[T.20]</th>       <td>  -62.0371</td> <td>    3.098</td> <td>  -20.024</td> <td> 0.000</td> <td>  -68.110</td> <td>  -55.965</td>\n",
       "</tr>\n",
       "<tr>\n",
       "  <th>C(DepHour)[T.21]</th>       <td>  -56.7039</td> <td>    3.109</td> <td>  -18.240</td> <td> 0.000</td> <td>  -62.797</td> <td>  -50.611</td>\n",
       "</tr>\n",
       "<tr>\n",
       "  <th>C(DepHour)[T.22]</th>       <td>  -50.2752</td> <td>    3.149</td> <td>  -15.963</td> <td> 0.000</td> <td>  -56.448</td> <td>  -44.102</td>\n",
       "</tr>\n",
       "<tr>\n",
       "  <th>C(DepHour)[T.23]</th>       <td>  -37.4353</td> <td>    3.246</td> <td>  -11.531</td> <td> 0.000</td> <td>  -43.798</td> <td>  -31.072</td>\n",
       "</tr>\n",
       "<tr>\n",
       "  <th>C(DepHour)[T.24]</th>       <td>  -42.1586</td> <td>   16.100</td> <td>   -2.619</td> <td> 0.009</td> <td>  -73.715</td> <td>  -10.602</td>\n",
       "</tr>\n",
       "<tr>\n",
       "  <th>C(Origin)[T.ATL]</th>       <td>  -28.0360</td> <td>   54.934</td> <td>   -0.510</td> <td> 0.610</td> <td> -135.708</td> <td>   79.637</td>\n",
       "</tr>\n",
       "<tr>\n",
       "  <th>C(Origin)[T.AUS]</th>       <td>  -21.5050</td> <td>   55.188</td> <td>   -0.390</td> <td> 0.697</td> <td> -129.676</td> <td>   86.666</td>\n",
       "</tr>\n",
       "<tr>\n",
       "  <th>C(Origin)[T.BGR]</th>       <td>   -9.6202</td> <td>   55.089</td> <td>   -0.175</td> <td> 0.861</td> <td> -117.596</td> <td>   98.356</td>\n",
       "</tr>\n",
       "<tr>\n",
       "  <th>C(Origin)[T.BNA]</th>       <td>  -39.9262</td> <td>   55.810</td> <td>   -0.715</td> <td> 0.474</td> <td> -149.316</td> <td>   69.463</td>\n",
       "</tr>\n",
       "<tr>\n",
       "  <th>C(Origin)[T.BUF]</th>       <td>   -3.6199</td> <td>   55.070</td> <td>   -0.066</td> <td> 0.948</td> <td> -111.559</td> <td>  104.320</td>\n",
       "</tr>\n",
       "<tr>\n",
       "  <th>C(Origin)[T.BWI]</th>       <td>  -17.8234</td> <td>   54.932</td> <td>   -0.324</td> <td> 0.746</td> <td> -125.493</td> <td>   89.846</td>\n",
       "</tr>\n",
       "<tr>\n",
       "  <th>C(Origin)[T.CAK]</th>       <td>  -17.2596</td> <td>   55.128</td> <td>   -0.313</td> <td> 0.754</td> <td> -125.313</td> <td>   90.794</td>\n",
       "</tr>\n",
       "<tr>\n",
       "  <th>C(Origin)[T.CHS]</th>       <td>  -12.4372</td> <td>   55.389</td> <td>   -0.225</td> <td> 0.822</td> <td> -121.002</td> <td>   96.128</td>\n",
       "</tr>\n",
       "<tr>\n",
       "  <th>C(Origin)[T.CLE]</th>       <td>  -15.8815</td> <td>   22.633</td> <td>   -0.702</td> <td> 0.483</td> <td>  -60.243</td> <td>   28.480</td>\n",
       "</tr>\n",
       "<tr>\n",
       "  <th>C(Origin)[T.CLT]</th>       <td>  -19.0193</td> <td>   54.949</td> <td>   -0.346</td> <td> 0.729</td> <td> -126.721</td> <td>   88.683</td>\n",
       "</tr>\n",
       "<tr>\n",
       "  <th>C(Origin)[T.CMH]</th>       <td>  -10.5936</td> <td>   55.145</td> <td>   -0.192</td> <td> 0.848</td> <td> -118.680</td> <td>   97.493</td>\n",
       "</tr>\n",
       "<tr>\n",
       "  <th>C(Origin)[T.CVG]</th>       <td>  -32.0398</td> <td>   54.958</td> <td>   -0.583</td> <td> 0.560</td> <td> -139.759</td> <td>   75.680</td>\n",
       "</tr>\n",
       "<tr>\n",
       "  <th>C(Origin)[T.DCA]</th>       <td>  -15.3638</td> <td>   54.924</td> <td>   -0.280</td> <td> 0.780</td> <td> -123.016</td> <td>   92.289</td>\n",
       "</tr>\n",
       "<tr>\n",
       "  <th>C(Origin)[T.DEN]</th>       <td>  -36.3733</td> <td>   54.986</td> <td>   -0.661</td> <td> 0.508</td> <td> -144.148</td> <td>   71.402</td>\n",
       "</tr>\n",
       "<tr>\n",
       "  <th>C(Origin)[T.DFW]</th>       <td>  -29.7184</td> <td>   54.999</td> <td>   -0.540</td> <td> 0.589</td> <td> -137.518</td> <td>   78.081</td>\n",
       "</tr>\n",
       "<tr>\n",
       "  <th>C(Origin)[T.DTW]</th>       <td>  -40.7568</td> <td>   68.623</td> <td>   -0.594</td> <td> 0.553</td> <td> -175.261</td> <td>   93.747</td>\n",
       "</tr>\n",
       "<tr>\n",
       "  <th>C(Origin)[T.EWR]</th>       <td>  -12.5196</td> <td>   22.549</td> <td>   -0.555</td> <td> 0.579</td> <td>  -56.717</td> <td>   31.677</td>\n",
       "</tr>\n",
       "<tr>\n",
       "  <th>C(Origin)[T.FLL]</th>       <td>  -13.8874</td> <td>   54.950</td> <td>   -0.253</td> <td> 0.800</td> <td> -121.592</td> <td>   93.817</td>\n",
       "</tr>\n",
       "<tr>\n",
       "  <th>C(Origin)[T.GSO]</th>       <td>    0.3937</td> <td>   56.034</td> <td>    0.007</td> <td> 0.994</td> <td> -109.435</td> <td>  110.223</td>\n",
       "</tr>\n",
       "<tr>\n",
       "  <th>C(Origin)[T.IAD]</th>       <td>  -11.9956</td> <td>   54.961</td> <td>   -0.218</td> <td> 0.827</td> <td> -119.721</td> <td>   95.730</td>\n",
       "</tr>\n",
       "<tr>\n",
       "  <th>C(Origin)[T.IAH]</th>       <td>  -30.4027</td> <td>   22.594</td> <td>   -1.346</td> <td> 0.178</td> <td>  -74.687</td> <td>   13.882</td>\n",
       "</tr>\n",
       "<tr>\n",
       "  <th>C(Origin)[T.IND]</th>       <td>  -44.7394</td> <td>   56.338</td> <td>   -0.794</td> <td> 0.427</td> <td> -155.165</td> <td>   65.686</td>\n",
       "</tr>\n",
       "<tr>\n",
       "  <th>C(Origin)[T.JAX]</th>       <td>  -14.5537</td> <td>   55.025</td> <td>   -0.264</td> <td> 0.791</td> <td> -122.405</td> <td>   93.298</td>\n",
       "</tr>\n",
       "<tr>\n",
       "  <th>C(Origin)[T.JFK]</th>       <td>  -16.7613</td> <td>   54.917</td> <td>   -0.305</td> <td> 0.760</td> <td> -124.400</td> <td>   90.877</td>\n",
       "</tr>\n",
       "<tr>\n",
       "  <th>C(Origin)[T.LAS]</th>       <td>  -54.0892</td> <td>   54.997</td> <td>   -0.983</td> <td> 0.325</td> <td> -161.885</td> <td>   53.707</td>\n",
       "</tr>\n",
       "<tr>\n",
       "  <th>C(Origin)[T.LAX]</th>       <td>  -42.3215</td> <td>   54.989</td> <td>   -0.770</td> <td> 0.442</td> <td> -150.101</td> <td>   65.458</td>\n",
       "</tr>\n",
       "<tr>\n",
       "  <th>C(Origin)[T.LGA]</th>       <td>  -22.0382</td> <td>   54.930</td> <td>   -0.401</td> <td> 0.688</td> <td> -129.702</td> <td>   85.626</td>\n",
       "</tr>\n",
       "<tr>\n",
       "  <th>C(Origin)[T.LGB]</th>       <td>  -38.5109</td> <td>   55.051</td> <td>   -0.700</td> <td> 0.484</td> <td> -146.413</td> <td>   69.392</td>\n",
       "</tr>\n",
       "<tr>\n",
       "  <th>C(Origin)[T.MCO]</th>       <td>  -17.9146</td> <td>   54.943</td> <td>   -0.326</td> <td> 0.744</td> <td> -125.605</td> <td>   89.775</td>\n",
       "</tr>\n",
       "<tr>\n",
       "  <th>C(Origin)[T.MDW]</th>       <td>   -6.4720</td> <td>   55.278</td> <td>   -0.117</td> <td> 0.907</td> <td> -114.820</td> <td>  101.876</td>\n",
       "</tr>\n",
       "<tr>\n",
       "  <th>C(Origin)[T.MEM]</th>       <td>  -46.4697</td> <td>   56.557</td> <td>   -0.822</td> <td> 0.411</td> <td> -157.324</td> <td>   64.385</td>\n",
       "</tr>\n",
       "<tr>\n",
       "  <th>C(Origin)[T.MHT]</th>       <td>  -49.0719</td> <td>   61.378</td> <td>   -0.800</td> <td> 0.424</td> <td> -169.375</td> <td>   71.232</td>\n",
       "</tr>\n",
       "<tr>\n",
       "  <th>C(Origin)[T.MIA]</th>       <td>  -26.9978</td> <td>   55.001</td> <td>   -0.491</td> <td> 0.624</td> <td> -134.802</td> <td>   80.807</td>\n",
       "</tr>\n",
       "<tr>\n",
       "  <th>C(Origin)[T.MKE]</th>       <td>  -19.5006</td> <td>   55.337</td> <td>   -0.352</td> <td> 0.725</td> <td> -127.963</td> <td>   88.961</td>\n",
       "</tr>\n",
       "<tr>\n",
       "  <th>C(Origin)[T.MSP]</th>       <td>  -36.8900</td> <td>   68.649</td> <td>   -0.537</td> <td> 0.591</td> <td> -171.446</td> <td>   97.666</td>\n",
       "</tr>\n",
       "<tr>\n",
       "  <th>C(Origin)[T.MSY]</th>       <td>   -5.3628</td> <td>   55.433</td> <td>   -0.097</td> <td> 0.923</td> <td> -114.013</td> <td>  103.287</td>\n",
       "</tr>\n",
       "<tr>\n",
       "  <th>C(Origin)[T.MYR]</th>       <td>  -41.7778</td> <td>   58.226</td> <td>   -0.718</td> <td> 0.473</td> <td> -155.903</td> <td>   72.348</td>\n",
       "</tr>\n",
       "<tr>\n",
       "  <th>C(Origin)[T.OAK]</th>       <td>  -51.3223</td> <td>   55.100</td> <td>   -0.931</td> <td> 0.352</td> <td> -159.320</td> <td>   56.675</td>\n",
       "</tr>\n",
       "<tr>\n",
       "  <th>C(Origin)[T.ORD]</th>       <td>  -18.3653</td> <td>   54.967</td> <td>   -0.334</td> <td> 0.738</td> <td> -126.102</td> <td>   89.372</td>\n",
       "</tr>\n",
       "<tr>\n",
       "  <th>C(Origin)[T.ORF]</th>       <td>  -30.9141</td> <td>   55.400</td> <td>   -0.558</td> <td> 0.577</td> <td> -139.501</td> <td>   77.673</td>\n",
       "</tr>\n",
       "<tr>\n",
       "  <th>C(Origin)[T.PBI]</th>       <td>  -19.8848</td> <td>   54.973</td> <td>   -0.362</td> <td> 0.718</td> <td> -127.633</td> <td>   87.864</td>\n",
       "</tr>\n",
       "<tr>\n",
       "  <th>C(Origin)[T.PDX]</th>       <td>  -35.1293</td> <td>   56.068</td> <td>   -0.627</td> <td> 0.531</td> <td> -145.024</td> <td>   74.765</td>\n",
       "</tr>\n",
       "<tr>\n",
       "  <th>C(Origin)[T.PHF]</th>       <td>   -8.6348</td> <td>   55.142</td> <td>   -0.157</td> <td> 0.876</td> <td> -116.715</td> <td>   99.445</td>\n",
       "</tr>\n",
       "<tr>\n",
       "  <th>C(Origin)[T.PHL]</th>       <td>  -17.3870</td> <td>   54.927</td> <td>   -0.317</td> <td> 0.752</td> <td> -125.046</td> <td>   90.272</td>\n",
       "</tr>\n",
       "<tr>\n",
       "  <th>C(Origin)[T.PHX]</th>       <td>  -29.5115</td> <td>   55.027</td> <td>   -0.536</td> <td> 0.592</td> <td> -137.366</td> <td>   78.343</td>\n",
       "</tr>\n",
       "<tr>\n",
       "  <th>C(Origin)[T.PIT]</th>       <td>  -22.2618</td> <td>   55.061</td> <td>   -0.404</td> <td> 0.686</td> <td> -130.184</td> <td>   85.661</td>\n",
       "</tr>\n",
       "<tr>\n",
       "  <th>C(Origin)[T.PVD]</th>       <td>  -57.0355</td> <td>   67.232</td> <td>   -0.848</td> <td> 0.396</td> <td> -188.813</td> <td>   74.742</td>\n",
       "</tr>\n",
       "<tr>\n",
       "  <th>C(Origin)[T.PWM]</th>       <td>  -49.4584</td> <td>   67.231</td> <td>   -0.736</td> <td> 0.462</td> <td> -181.233</td> <td>   82.316</td>\n",
       "</tr>\n",
       "<tr>\n",
       "  <th>C(Origin)[T.RDU]</th>       <td>  -21.6770</td> <td>   54.936</td> <td>   -0.395</td> <td> 0.693</td> <td> -129.353</td> <td>   85.999</td>\n",
       "</tr>\n",
       "<tr>\n",
       "  <th>C(Origin)[T.RIC]</th>       <td>    7.0979</td> <td>   55.150</td> <td>    0.129</td> <td> 0.898</td> <td> -100.998</td> <td>  115.193</td>\n",
       "</tr>\n",
       "<tr>\n",
       "  <th>C(Origin)[T.RSW]</th>       <td>  -18.4981</td> <td>   54.972</td> <td>   -0.336</td> <td> 0.736</td> <td> -126.246</td> <td>   89.250</td>\n",
       "</tr>\n",
       "<tr>\n",
       "  <th>C(Origin)[T.SAN]</th>       <td>  -53.6702</td> <td>   55.119</td> <td>   -0.974</td> <td> 0.330</td> <td> -161.705</td> <td>   54.364</td>\n",
       "</tr>\n",
       "<tr>\n",
       "  <th>C(Origin)[T.SAV]</th>       <td>  -30.3682</td> <td>   55.705</td> <td>   -0.545</td> <td> 0.586</td> <td> -139.553</td> <td>   78.816</td>\n",
       "</tr>\n",
       "<tr>\n",
       "  <th>C(Origin)[T.SDF]</th>       <td>    0.8476</td> <td>   55.780</td> <td>    0.015</td> <td> 0.988</td> <td> -108.483</td> <td>  110.179</td>\n",
       "</tr>\n",
       "<tr>\n",
       "  <th>C(Origin)[T.SEA]</th>       <td>  -83.8182</td> <td>   55.255</td> <td>   -1.517</td> <td> 0.129</td> <td> -192.120</td> <td>   24.484</td>\n",
       "</tr>\n",
       "<tr>\n",
       "  <th>C(Origin)[T.SFO]</th>       <td>  -41.5924</td> <td>   54.986</td> <td>   -0.756</td> <td> 0.449</td> <td> -149.367</td> <td>   66.182</td>\n",
       "</tr>\n",
       "<tr>\n",
       "  <th>C(Origin)[T.SJC]</th>       <td>  -39.9162</td> <td>   55.434</td> <td>   -0.720</td> <td> 0.471</td> <td> -148.569</td> <td>   68.736</td>\n",
       "</tr>\n",
       "<tr>\n",
       "  <th>C(Origin)[T.SJU]</th>       <td>  -14.8045</td> <td>   55.035</td> <td>   -0.269</td> <td> 0.788</td> <td> -122.675</td> <td>   93.066</td>\n",
       "</tr>\n",
       "<tr>\n",
       "  <th>C(Origin)[T.SLC]</th>       <td>  -31.1997</td> <td>   55.132</td> <td>   -0.566</td> <td> 0.571</td> <td> -139.260</td> <td>   76.860</td>\n",
       "</tr>\n",
       "<tr>\n",
       "  <th>C(Origin)[T.SRQ]</th>       <td>  -13.7451</td> <td>   57.170</td> <td>   -0.240</td> <td> 0.810</td> <td> -125.801</td> <td>   98.310</td>\n",
       "</tr>\n",
       "<tr>\n",
       "  <th>C(Origin)[T.STL]</th>       <td>  -23.2892</td> <td>   55.110</td> <td>   -0.423</td> <td> 0.673</td> <td> -131.306</td> <td>   84.728</td>\n",
       "</tr>\n",
       "<tr>\n",
       "  <th>C(Origin)[T.STT]</th>       <td>  -41.5470</td> <td>   55.861</td> <td>   -0.744</td> <td> 0.457</td> <td> -151.036</td> <td>   67.942</td>\n",
       "</tr>\n",
       "<tr>\n",
       "  <th>C(Origin)[T.SWF]</th>       <td>  -50.1000</td> <td>   77.627</td> <td>   -0.645</td> <td> 0.519</td> <td> -202.251</td> <td>  102.051</td>\n",
       "</tr>\n",
       "<tr>\n",
       "  <th>C(Origin)[T.TPA]</th>       <td>  -22.6351</td> <td>   54.965</td> <td>   -0.412</td> <td> 0.680</td> <td> -130.369</td> <td>   85.099</td>\n",
       "</tr>\n",
       "</table>\n",
       "<table class=\"simpletable\">\n",
       "<tr>\n",
       "  <th>Omnibus:</th>       <td>19793.830</td> <th>  Durbin-Watson:     </th>  <td>   1.697</td> \n",
       "</tr>\n",
       "<tr>\n",
       "  <th>Prob(Omnibus):</th>  <td> 0.000</td>   <th>  Jarque-Bera (JB):  </th> <td>411063.116</td>\n",
       "</tr>\n",
       "<tr>\n",
       "  <th>Skew:</th>           <td> 2.629</td>   <th>  Prob(JB):          </th>  <td>    0.00</td> \n",
       "</tr>\n",
       "<tr>\n",
       "  <th>Kurtosis:</th>       <td>19.788</td>   <th>  Cond. No.          </th>  <td>1.29e+15</td> \n",
       "</tr>\n",
       "</table><br/><br/>Warnings:<br/>[1] Standard Errors assume that the covariance matrix of the errors is correctly specified.<br/>[2] The smallest eigenvalue is 2.73e-26. This might indicate that there are<br/>strong multicollinearity problems or that the design matrix is singular."
      ],
      "text/plain": [
       "<class 'statsmodels.iolib.summary.Summary'>\n",
       "\"\"\"\n",
       "                            OLS Regression Results                            \n",
       "==============================================================================\n",
       "Dep. Variable:               MinDelay   R-squared:                       0.142\n",
       "Model:                            OLS   Adj. R-squared:                  0.139\n",
       "Method:                 Least Squares   F-statistic:                     44.56\n",
       "Date:                Sun, 17 May 2020   Prob (F-statistic):               0.00\n",
       "Time:                        17:29:46   Log-Likelihood:            -1.7284e+05\n",
       "No. Observations:               31878   AIC:                         3.459e+05\n",
       "Df Residuals:                   31759   BIC:                         3.469e+05\n",
       "Df Model:                         118                                         \n",
       "Covariance Type:            nonrobust                                         \n",
       "==========================================================================================\n",
       "                             coef    std err          t      P>|t|      [0.025      0.975]\n",
       "------------------------------------------------------------------------------------------\n",
       "Intercept                162.4285     56.287      2.886      0.004      52.103     272.754\n",
       "C(Month)[T.2]              3.7086      1.513      2.451      0.014       0.743       6.675\n",
       "C(Month)[T.3]              3.2711      1.490      2.196      0.028       0.351       6.191\n",
       "C(Month)[T.4]              7.1455      1.542      4.635      0.000       4.124      10.167\n",
       "C(Month)[T.5]              0.7857      1.562      0.503      0.615      -2.276       3.848\n",
       "C(Month)[T.6]             14.7939      1.452     10.190      0.000      11.948      17.640\n",
       "C(Month)[T.7]             18.7248      1.473     12.708      0.000      15.837      21.613\n",
       "C(Month)[T.8]             17.3273      1.495     11.589      0.000      14.397      20.258\n",
       "C(Month)[T.9]              3.9729      1.749      2.271      0.023       0.544       7.402\n",
       "C(Month)[T.10]            -4.9340      1.791     -2.755      0.006      -8.445      -1.423\n",
       "C(Month)[T.11]            12.7242      1.681      7.567      0.000       9.429      16.020\n",
       "C(Month)[T.12]            15.7050      1.518     10.347      0.000      12.730      18.680\n",
       "C(DayOfWeek)[T.2]         -0.0083      1.154     -0.007      0.994      -2.270       2.253\n",
       "C(DayOfWeek)[T.3]          2.3474      1.151      2.040      0.041       0.092       4.603\n",
       "C(DayOfWeek)[T.4]          2.0717      1.136      1.823      0.068      -0.156       4.299\n",
       "C(DayOfWeek)[T.5]          5.9128      1.104      5.354      0.000       3.748       8.077\n",
       "C(DayOfWeek)[T.6]         -0.1952      1.247     -0.157      0.876      -2.639       2.249\n",
       "C(DayOfWeek)[T.7]          6.1920      1.131      5.473      0.000       3.975       8.410\n",
       "C(UniqueCarrier)[T.AA]   -29.3609     12.283     -2.390      0.017     -53.436      -5.286\n",
       "C(UniqueCarrier)[T.AS]     7.7478     14.651      0.529      0.597     -20.969      36.464\n",
       "C(UniqueCarrier)[T.B6]   -34.3518     12.066     -2.847      0.004     -58.002     -10.701\n",
       "C(UniqueCarrier)[T.CO]   -31.8298     33.752     -0.943      0.346     -97.985      34.326\n",
       "C(UniqueCarrier)[T.DL]   -36.8105     12.032     -3.059      0.002     -60.394     -13.227\n",
       "C(UniqueCarrier)[T.EV]   -40.5943     21.086     -1.925      0.054     -81.923       0.734\n",
       "C(UniqueCarrier)[T.FL]   -35.3324     12.118     -2.916      0.004     -59.084     -11.581\n",
       "C(UniqueCarrier)[T.MQ]   -30.5852     12.085     -2.531      0.011     -54.273      -6.898\n",
       "C(UniqueCarrier)[T.NW]   -14.5820     39.362     -0.370      0.711     -91.733      62.569\n",
       "C(UniqueCarrier)[T.OH]   -24.2773     12.008     -2.022      0.043     -47.814      -0.741\n",
       "C(UniqueCarrier)[T.UA]   -28.8505     12.245     -2.356      0.018     -52.852      -4.849\n",
       "C(UniqueCarrier)[T.US]   -43.5882     12.105     -3.601      0.000     -67.315     -19.861\n",
       "C(UniqueCarrier)[T.XE]   -26.9740     33.930     -0.795      0.427     -93.479      39.531\n",
       "C(UniqueCarrier)[T.YV]   -17.3581     12.759     -1.361      0.174     -42.365       7.649\n",
       "C(DepHour)[T.1]           55.6328      5.970      9.319      0.000      43.931      67.334\n",
       "C(DepHour)[T.2]          113.5924      9.802     11.589      0.000      94.380     132.804\n",
       "C(DepHour)[T.3]          199.3064     18.519     10.762      0.000     163.008     235.605\n",
       "C(DepHour)[T.4]          328.1224     38.949      8.424      0.000     251.781     404.463\n",
       "C(DepHour)[T.5]          251.1887     31.840      7.889      0.000     188.781     313.597\n",
       "C(DepHour)[T.6]          -97.1008      4.417    -21.982      0.000    -105.759     -88.443\n",
       "C(DepHour)[T.7]          -97.9723      3.512    -27.900      0.000    -104.855     -91.090\n",
       "C(DepHour)[T.8]          -92.8989      3.375    -27.528      0.000     -99.513     -86.284\n",
       "C(DepHour)[T.9]          -86.1506      3.334    -25.842      0.000     -92.685     -79.616\n",
       "C(DepHour)[T.10]         -86.8460      3.227    -26.912      0.000     -93.171     -80.521\n",
       "C(DepHour)[T.11]         -88.0007      3.168    -27.779      0.000     -94.210     -81.791\n",
       "C(DepHour)[T.12]         -82.7964      3.236    -25.589      0.000     -89.138     -76.455\n",
       "C(DepHour)[T.13]         -84.9411      3.112    -27.294      0.000     -91.041     -78.841\n",
       "C(DepHour)[T.14]         -71.1158      3.164    -22.480      0.000     -77.316     -64.915\n",
       "C(DepHour)[T.15]         -76.1295      3.095    -24.595      0.000     -82.196     -70.063\n",
       "C(DepHour)[T.16]         -70.8796      3.070    -23.090      0.000     -76.896     -64.863\n",
       "C(DepHour)[T.17]         -67.2782      3.072    -21.902      0.000     -73.299     -61.257\n",
       "C(DepHour)[T.18]         -63.4898      3.091    -20.538      0.000     -69.549     -57.431\n",
       "C(DepHour)[T.19]         -68.9814      3.048    -22.631      0.000     -74.956     -63.007\n",
       "C(DepHour)[T.20]         -62.0371      3.098    -20.024      0.000     -68.110     -55.965\n",
       "C(DepHour)[T.21]         -56.7039      3.109    -18.240      0.000     -62.797     -50.611\n",
       "C(DepHour)[T.22]         -50.2752      3.149    -15.963      0.000     -56.448     -44.102\n",
       "C(DepHour)[T.23]         -37.4353      3.246    -11.531      0.000     -43.798     -31.072\n",
       "C(DepHour)[T.24]         -42.1586     16.100     -2.619      0.009     -73.715     -10.602\n",
       "C(Origin)[T.ATL]         -28.0360     54.934     -0.510      0.610    -135.708      79.637\n",
       "C(Origin)[T.AUS]         -21.5050     55.188     -0.390      0.697    -129.676      86.666\n",
       "C(Origin)[T.BGR]          -9.6202     55.089     -0.175      0.861    -117.596      98.356\n",
       "C(Origin)[T.BNA]         -39.9262     55.810     -0.715      0.474    -149.316      69.463\n",
       "C(Origin)[T.BUF]          -3.6199     55.070     -0.066      0.948    -111.559     104.320\n",
       "C(Origin)[T.BWI]         -17.8234     54.932     -0.324      0.746    -125.493      89.846\n",
       "C(Origin)[T.CAK]         -17.2596     55.128     -0.313      0.754    -125.313      90.794\n",
       "C(Origin)[T.CHS]         -12.4372     55.389     -0.225      0.822    -121.002      96.128\n",
       "C(Origin)[T.CLE]         -15.8815     22.633     -0.702      0.483     -60.243      28.480\n",
       "C(Origin)[T.CLT]         -19.0193     54.949     -0.346      0.729    -126.721      88.683\n",
       "C(Origin)[T.CMH]         -10.5936     55.145     -0.192      0.848    -118.680      97.493\n",
       "C(Origin)[T.CVG]         -32.0398     54.958     -0.583      0.560    -139.759      75.680\n",
       "C(Origin)[T.DCA]         -15.3638     54.924     -0.280      0.780    -123.016      92.289\n",
       "C(Origin)[T.DEN]         -36.3733     54.986     -0.661      0.508    -144.148      71.402\n",
       "C(Origin)[T.DFW]         -29.7184     54.999     -0.540      0.589    -137.518      78.081\n",
       "C(Origin)[T.DTW]         -40.7568     68.623     -0.594      0.553    -175.261      93.747\n",
       "C(Origin)[T.EWR]         -12.5196     22.549     -0.555      0.579     -56.717      31.677\n",
       "C(Origin)[T.FLL]         -13.8874     54.950     -0.253      0.800    -121.592      93.817\n",
       "C(Origin)[T.GSO]           0.3937     56.034      0.007      0.994    -109.435     110.223\n",
       "C(Origin)[T.IAD]         -11.9956     54.961     -0.218      0.827    -119.721      95.730\n",
       "C(Origin)[T.IAH]         -30.4027     22.594     -1.346      0.178     -74.687      13.882\n",
       "C(Origin)[T.IND]         -44.7394     56.338     -0.794      0.427    -155.165      65.686\n",
       "C(Origin)[T.JAX]         -14.5537     55.025     -0.264      0.791    -122.405      93.298\n",
       "C(Origin)[T.JFK]         -16.7613     54.917     -0.305      0.760    -124.400      90.877\n",
       "C(Origin)[T.LAS]         -54.0892     54.997     -0.983      0.325    -161.885      53.707\n",
       "C(Origin)[T.LAX]         -42.3215     54.989     -0.770      0.442    -150.101      65.458\n",
       "C(Origin)[T.LGA]         -22.0382     54.930     -0.401      0.688    -129.702      85.626\n",
       "C(Origin)[T.LGB]         -38.5109     55.051     -0.700      0.484    -146.413      69.392\n",
       "C(Origin)[T.MCO]         -17.9146     54.943     -0.326      0.744    -125.605      89.775\n",
       "C(Origin)[T.MDW]          -6.4720     55.278     -0.117      0.907    -114.820     101.876\n",
       "C(Origin)[T.MEM]         -46.4697     56.557     -0.822      0.411    -157.324      64.385\n",
       "C(Origin)[T.MHT]         -49.0719     61.378     -0.800      0.424    -169.375      71.232\n",
       "C(Origin)[T.MIA]         -26.9978     55.001     -0.491      0.624    -134.802      80.807\n",
       "C(Origin)[T.MKE]         -19.5006     55.337     -0.352      0.725    -127.963      88.961\n",
       "C(Origin)[T.MSP]         -36.8900     68.649     -0.537      0.591    -171.446      97.666\n",
       "C(Origin)[T.MSY]          -5.3628     55.433     -0.097      0.923    -114.013     103.287\n",
       "C(Origin)[T.MYR]         -41.7778     58.226     -0.718      0.473    -155.903      72.348\n",
       "C(Origin)[T.OAK]         -51.3223     55.100     -0.931      0.352    -159.320      56.675\n",
       "C(Origin)[T.ORD]         -18.3653     54.967     -0.334      0.738    -126.102      89.372\n",
       "C(Origin)[T.ORF]         -30.9141     55.400     -0.558      0.577    -139.501      77.673\n",
       "C(Origin)[T.PBI]         -19.8848     54.973     -0.362      0.718    -127.633      87.864\n",
       "C(Origin)[T.PDX]         -35.1293     56.068     -0.627      0.531    -145.024      74.765\n",
       "C(Origin)[T.PHF]          -8.6348     55.142     -0.157      0.876    -116.715      99.445\n",
       "C(Origin)[T.PHL]         -17.3870     54.927     -0.317      0.752    -125.046      90.272\n",
       "C(Origin)[T.PHX]         -29.5115     55.027     -0.536      0.592    -137.366      78.343\n",
       "C(Origin)[T.PIT]         -22.2618     55.061     -0.404      0.686    -130.184      85.661\n",
       "C(Origin)[T.PVD]         -57.0355     67.232     -0.848      0.396    -188.813      74.742\n",
       "C(Origin)[T.PWM]         -49.4584     67.231     -0.736      0.462    -181.233      82.316\n",
       "C(Origin)[T.RDU]         -21.6770     54.936     -0.395      0.693    -129.353      85.999\n",
       "C(Origin)[T.RIC]           7.0979     55.150      0.129      0.898    -100.998     115.193\n",
       "C(Origin)[T.RSW]         -18.4981     54.972     -0.336      0.736    -126.246      89.250\n",
       "C(Origin)[T.SAN]         -53.6702     55.119     -0.974      0.330    -161.705      54.364\n",
       "C(Origin)[T.SAV]         -30.3682     55.705     -0.545      0.586    -139.553      78.816\n",
       "C(Origin)[T.SDF]           0.8476     55.780      0.015      0.988    -108.483     110.179\n",
       "C(Origin)[T.SEA]         -83.8182     55.255     -1.517      0.129    -192.120      24.484\n",
       "C(Origin)[T.SFO]         -41.5924     54.986     -0.756      0.449    -149.367      66.182\n",
       "C(Origin)[T.SJC]         -39.9162     55.434     -0.720      0.471    -148.569      68.736\n",
       "C(Origin)[T.SJU]         -14.8045     55.035     -0.269      0.788    -122.675      93.066\n",
       "C(Origin)[T.SLC]         -31.1997     55.132     -0.566      0.571    -139.260      76.860\n",
       "C(Origin)[T.SRQ]         -13.7451     57.170     -0.240      0.810    -125.801      98.310\n",
       "C(Origin)[T.STL]         -23.2892     55.110     -0.423      0.673    -131.306      84.728\n",
       "C(Origin)[T.STT]         -41.5470     55.861     -0.744      0.457    -151.036      67.942\n",
       "C(Origin)[T.SWF]         -50.1000     77.627     -0.645      0.519    -202.251     102.051\n",
       "C(Origin)[T.TPA]         -22.6351     54.965     -0.412      0.680    -130.369      85.099\n",
       "==============================================================================\n",
       "Omnibus:                    19793.830   Durbin-Watson:                   1.697\n",
       "Prob(Omnibus):                  0.000   Jarque-Bera (JB):           411063.116\n",
       "Skew:                           2.629   Prob(JB):                         0.00\n",
       "Kurtosis:                      19.788   Cond. No.                     1.29e+15\n",
       "==============================================================================\n",
       "\n",
       "Warnings:\n",
       "[1] Standard Errors assume that the covariance matrix of the errors is correctly specified.\n",
       "[2] The smallest eigenvalue is 2.73e-26. This might indicate that there are\n",
       "strong multicollinearity problems or that the design matrix is singular.\n",
       "\"\"\""
      ]
     },
     "execution_count": 260,
     "metadata": {},
     "output_type": "execute_result"
    }
   ],
   "source": [
    "mod.summary()"
   ]
  },
  {
   "cell_type": "markdown",
   "metadata": {},
   "source": [
    "# Logistic Regression:"
   ]
  },
  {
   "cell_type": "markdown",
   "metadata": {},
   "source": [
    "## Training Logistic Regression Model:"
   ]
  },
  {
   "cell_type": "code",
   "execution_count": 261,
   "metadata": {},
   "outputs": [],
   "source": [
    "from sklearn.linear_model import LogisticRegression, LinearRegression\n",
    "from sklearn import metrics\n",
    "lr_model = LogisticRegression()"
   ]
  },
  {
   "cell_type": "code",
   "execution_count": 262,
   "metadata": {},
   "outputs": [
    {
     "data": {
      "text/plain": [
       "LogisticRegression(C=1.0, class_weight=None, dual=False, fit_intercept=True,\n",
       "                   intercept_scaling=1, l1_ratio=None, max_iter=100,\n",
       "                   multi_class='auto', n_jobs=None, penalty='l2',\n",
       "                   random_state=None, solver='lbfgs', tol=0.0001, verbose=0,\n",
       "                   warm_start=False)"
      ]
     },
     "execution_count": 262,
     "metadata": {},
     "output_type": "execute_result"
    }
   ],
   "source": [
    "lr_model.fit(X_train_trans, y_train_bin)"
   ]
  },
  {
   "cell_type": "markdown",
   "metadata": {},
   "source": [
    "## Testing Logistic Regression Model:"
   ]
  },
  {
   "cell_type": "code",
   "execution_count": 263,
   "metadata": {},
   "outputs": [],
   "source": [
    "y_predict = lr_model.predict(X_test_trans)"
   ]
  },
  {
   "cell_type": "code",
   "execution_count": 264,
   "metadata": {},
   "outputs": [
    {
     "name": "stdout",
     "output_type": "stream",
     "text": [
      "0.588620185968918\n"
     ]
    }
   ],
   "source": [
    "score = cross_val_score(lr_model, X_train_trans, y_train_bin, cv=5).mean()\n",
    "print(score)"
   ]
  },
  {
   "cell_type": "markdown",
   "metadata": {},
   "source": [
    "## Tunning Linear Regression Model:"
   ]
  },
  {
   "cell_type": "code",
   "execution_count": 265,
   "metadata": {},
   "outputs": [],
   "source": [
    "import time\n",
    "from sklearn.model_selection import KFold\n",
    "from sklearn.model_selection import GridSearchCV"
   ]
  },
  {
   "cell_type": "code",
   "execution_count": 266,
   "metadata": {},
   "outputs": [],
   "source": [
    "# Parameters tuned:\n",
    "# I could change cv from 5 to 10 in GridSearchCV\n",
    "l1_ratio = [0.1, 0.2, 0.3, 0.4, 0.5, 0.6, 0.7, 0.8, 0.9]\n",
    "C = [0.001,0.01,0.1,1,10,100]\n",
    "param_grid = dict(l1_ratio=l1_ratio, C=C)"
   ]
  },
  {
   "cell_type": "code",
   "execution_count": 267,
   "metadata": {},
   "outputs": [],
   "source": [
    "# Comented \n",
    "# lr = LogisticRegression(solver = 'saga',n_jobs = -1, penalty = 'elasticnet' )\n",
    "# grid = GridSearchCV(estimator=lr, param_grid=param_grid, cv = 5, n_jobs=-1)\n",
    "# # Timing\n",
    "# start_time = time.time()\n",
    "# grid_result = grid.fit(X_train_trans, y_train_bin)\n",
    "# # Summarize results\n",
    "# print(\"Best: %f using %s\" % (grid_result.best_score_, grid_result.best_params_))\n",
    "# print(\"Execution time: \" + str((time.time() - start_time)) + ' ms')"
   ]
  },
  {
   "cell_type": "markdown",
   "metadata": {},
   "source": [
    "Best: 0.592385 using {'C': 0.001, 'l1_ratio': 0.1}\n",
    "Execution time: 591.1762690544128 ms"
   ]
  },
  {
   "cell_type": "markdown",
   "metadata": {},
   "source": [
    "Best: 0.589483 using {'C': 1.0, 'dual': False, 'max_iter': 100}\n",
    "Execution time: 6.69084358215332 ms"
   ]
  },
  {
   "cell_type": "code",
   "execution_count": 268,
   "metadata": {},
   "outputs": [],
   "source": [
    "# New lr_model with the best parameters:\n",
    "lr_model = LogisticRegression(solver = 'saga', n_jobs = -1, penalty = 'elasticnet', C = 0.001, l1_ratio = 0.1 )"
   ]
  },
  {
   "cell_type": "code",
   "execution_count": 269,
   "metadata": {},
   "outputs": [
    {
     "data": {
      "text/plain": [
       "LogisticRegression(C=0.001, class_weight=None, dual=False, fit_intercept=True,\n",
       "                   intercept_scaling=1, l1_ratio=0.1, max_iter=100,\n",
       "                   multi_class='auto', n_jobs=-1, penalty='elasticnet',\n",
       "                   random_state=None, solver='saga', tol=0.0001, verbose=0,\n",
       "                   warm_start=False)"
      ]
     },
     "execution_count": 269,
     "metadata": {},
     "output_type": "execute_result"
    }
   ],
   "source": [
    "# Training new model:\n",
    "lr_model.fit(X_train_trans, y_train_bin)"
   ]
  },
  {
   "cell_type": "code",
   "execution_count": 270,
   "metadata": {},
   "outputs": [],
   "source": [
    "# Testing new model:\n",
    "y_predict = lr_model.predict(X_test_trans)"
   ]
  },
  {
   "cell_type": "markdown",
   "metadata": {},
   "source": [
    "## Confusion Matrix for Logistic Regression Model:"
   ]
  },
  {
   "cell_type": "code",
   "execution_count": 271,
   "metadata": {},
   "outputs": [
    {
     "name": "stdout",
     "output_type": "stream",
     "text": [
      "[[1748 1436]\n",
      " [1229 1963]]\n"
     ]
    }
   ],
   "source": [
    "cm = metrics.confusion_matrix(y_test_bin, y_predict)\n",
    "print(cm)"
   ]
  },
  {
   "cell_type": "code",
   "execution_count": 272,
   "metadata": {},
   "outputs": [],
   "source": [
    "# Cross Validation Score:\n",
    "score = cross_val_score(lr_model, X_train_trans, y_train_bin, cv=5).mean()"
   ]
  },
  {
   "cell_type": "markdown",
   "metadata": {},
   "source": [
    "## Confusion Matrix Visualization:"
   ]
  },
  {
   "cell_type": "code",
   "execution_count": 273,
   "metadata": {},
   "outputs": [
    {
     "data": {
      "image/png": "[encoded data removed]",
      "text/plain": [
       "<Figure size 648x648 with 2 Axes>"
      ]
     },
     "metadata": {
      "needs_background": "light"
     },
     "output_type": "display_data"
    }
   ],
   "source": [
    "plt.figure(figsize=(9,9))\n",
    "sns.heatmap(cm, annot=True, fmt=\".3f\", linewidths=.5, square = True, cmap = 'Blues_r');\n",
    "plt.ylabel('Actual label');\n",
    "plt.xlabel('Predicted label');\n",
    "all_sample_title = 'Accuracy Score: {0}'.format(score)\n",
    "plt.title(all_sample_title, size = 15)\n",
    "plt.savefig('img/Logistic Confusion Matrix.png')"
   ]
  },
  {
   "cell_type": "code",
   "execution_count": 274,
   "metadata": {},
   "outputs": [
    {
     "name": "stdout",
     "output_type": "stream",
     "text": [
      "              precision    recall  f1-score   support\n",
      "\n",
      "           0       0.59      0.55      0.57      3184\n",
      "           1       0.58      0.61      0.60      3192\n",
      "\n",
      "    accuracy                           0.58      6376\n",
      "   macro avg       0.58      0.58      0.58      6376\n",
      "weighted avg       0.58      0.58      0.58      6376\n",
      "\n"
     ]
    }
   ],
   "source": [
    "print(classification_report(y_test_bin, y_predict))"
   ]
  },
  {
   "cell_type": "markdown",
   "metadata": {},
   "source": [
    "## Building ROC Curve:"
   ]
  },
  {
   "cell_type": "code",
   "execution_count": 275,
   "metadata": {},
   "outputs": [
    {
     "data": {
      "image/png": "[encoded data removed]",
      "text/plain": [
       "<Figure size 432x288 with 1 Axes>"
      ]
     },
     "metadata": {
      "needs_background": "light"
     },
     "output_type": "display_data"
    }
   ],
   "source": [
    "logit_roc_auc = roc_auc_score(y_test_bin, lr_model.predict(X_test_d))\n",
    "fpr, tpr, thresholds = roc_curve(y_test_bin, lr_model.predict_proba(X_test_d)[:,1])\n",
    "plt.figure()\n",
    "plt.plot(fpr, tpr, label='Logistic Regression (area = %0.2f)' % logit_roc_auc)\n",
    "plt.plot([0, 1], [0, 1],'r--')\n",
    "plt.xlim([0.0, 1.0])\n",
    "plt.ylim([0.0, 1.05])\n",
    "plt.xlabel('False Positive Rate')\n",
    "plt.ylabel('True Positive Rate')\n",
    "plt.title('Features')\n",
    "plt.legend(loc=\"lower right\")\n",
    "plt.savefig('img/Logistic_ROC')\n",
    "plt.show()"
   ]
  },
  {
   "cell_type": "markdown",
   "metadata": {},
   "source": [
    "# Random Forest Classification Model:"
   ]
  },
  {
   "cell_type": "markdown",
   "metadata": {},
   "source": [
    "## Changing Object Data Types to Integers:"
   ]
  },
  {
   "cell_type": "code",
   "execution_count": 276,
   "metadata": {},
   "outputs": [],
   "source": [
    "X2 = boston_df.drop(['MinDelay','Delayed'], axis = 1)"
   ]
  },
  {
   "cell_type": "code",
   "execution_count": 277,
   "metadata": {},
   "outputs": [
    {
     "data": {
      "text/plain": [
       "Month             int64\n",
       "DayOfWeek         int64\n",
       "UniqueCarrier    object\n",
       "Origin           object\n",
       "DepHour           int64\n",
       "dtype: object"
      ]
     },
     "execution_count": 277,
     "metadata": {},
     "output_type": "execute_result"
    }
   ],
   "source": [
    "X2.dtypes"
   ]
  },
  {
   "cell_type": "code",
   "execution_count": 278,
   "metadata": {},
   "outputs": [],
   "source": [
    "le = preprocessing.LabelEncoder()\n",
    "for column_name in X2.columns:\n",
    "    if X2[column_name].dtype == object:\n",
    "        X2[column_name] = le.fit_transform(X2[column_name])\n",
    "    else:\n",
    "        pass"
   ]
  },
  {
   "cell_type": "code",
   "execution_count": 279,
   "metadata": {},
   "outputs": [
    {
     "data": {
      "text/plain": [
       "Month            int64\n",
       "DayOfWeek        int64\n",
       "UniqueCarrier    int64\n",
       "Origin           int64\n",
       "DepHour          int64\n",
       "dtype: object"
      ]
     },
     "execution_count": 279,
     "metadata": {},
     "output_type": "execute_result"
    }
   ],
   "source": [
    "X2.dtypes"
   ]
  },
  {
   "cell_type": "markdown",
   "metadata": {},
   "source": [
    "## Splitting Dataset:"
   ]
  },
  {
   "cell_type": "code",
   "execution_count": 280,
   "metadata": {},
   "outputs": [],
   "source": [
    "X2_train, X2_test, y_train_bin, y_test_bin = train_test_split(X2, y_bin, test_size=0.2, random_state=42)"
   ]
  },
  {
   "cell_type": "markdown",
   "metadata": {},
   "source": [
    "## Training Random Forest Model:"
   ]
  },
  {
   "cell_type": "code",
   "execution_count": 281,
   "metadata": {},
   "outputs": [
    {
     "data": {
      "text/plain": [
       "RandomForestClassifier(bootstrap=True, ccp_alpha=0.0, class_weight=None,\n",
       "                       criterion='gini', max_depth=5, max_features='auto',\n",
       "                       max_leaf_nodes=None, max_samples=None,\n",
       "                       min_impurity_decrease=0.0, min_impurity_split=None,\n",
       "                       min_samples_leaf=1, min_samples_split=2,\n",
       "                       min_weight_fraction_leaf=0.0, n_estimators=100,\n",
       "                       n_jobs=-1, oob_score=False, random_state=13, verbose=0,\n",
       "                       warm_start=False)"
      ]
     },
     "execution_count": 281,
     "metadata": {},
     "output_type": "execute_result"
    }
   ],
   "source": [
    "rf_model = RandomForestClassifier(random_state = 13,n_estimators=100,max_depth=5,n_jobs = -1)\n",
    "rf_model.fit(X2_train,y_train_bin)"
   ]
  },
  {
   "cell_type": "markdown",
   "metadata": {},
   "source": [
    "## Testing Random Forest Classifier:"
   ]
  },
  {
   "cell_type": "code",
   "execution_count": 282,
   "metadata": {},
   "outputs": [],
   "source": [
    "y_predict = rf_model.predict(X2_test)"
   ]
  },
  {
   "cell_type": "markdown",
   "metadata": {},
   "source": [
    "## Using Cross Validation Score Method to get Accuracy of Random Forest Classifier:"
   ]
  },
  {
   "cell_type": "code",
   "execution_count": 283,
   "metadata": {},
   "outputs": [
    {
     "name": "stdout",
     "output_type": "stream",
     "text": [
      "0.61182469727703\n"
     ]
    }
   ],
   "source": [
    "score = cross_val_score(rf_model, X2_test, y_test_bin, cv=5).mean()\n",
    "print(score)"
   ]
  },
  {
   "cell_type": "markdown",
   "metadata": {},
   "source": [
    "## Confusion Matrix for Random Forest Classifier Model:"
   ]
  },
  {
   "cell_type": "code",
   "execution_count": 284,
   "metadata": {},
   "outputs": [
    {
     "name": "stdout",
     "output_type": "stream",
     "text": [
      "[[1638 1546]\n",
      " [ 885 2307]]\n"
     ]
    }
   ],
   "source": [
    "cm = confusion_matrix(y_test_bin, y_predict)\n",
    "print(cm)"
   ]
  },
  {
   "cell_type": "markdown",
   "metadata": {},
   "source": [
    "## Confusion Matrix Visualization:"
   ]
  },
  {
   "cell_type": "code",
   "execution_count": 285,
   "metadata": {},
   "outputs": [
    {
     "data": {
      "image/png": "[encoded data removed]",
      "text/plain": [
       "<Figure size 648x648 with 2 Axes>"
      ]
     },
     "metadata": {
      "needs_background": "light"
     },
     "output_type": "display_data"
    }
   ],
   "source": [
    "plt.figure(figsize=(9,9))\n",
    "sns.heatmap(cm, annot=True, fmt=\".3f\", linewidths=.5, square = True, cmap = 'Blues_r');\n",
    "plt.ylabel('Actual label');\n",
    "plt.xlabel('Predicted label');\n",
    "all_sample_title = 'Accuracy Score: {0}'.format(score)\n",
    "plt.title(all_sample_title, size = 15)\n",
    "plt.savefig('img/Random Forest Confusion Matrix.png')"
   ]
  },
  {
   "cell_type": "code",
   "execution_count": 286,
   "metadata": {},
   "outputs": [
    {
     "name": "stdout",
     "output_type": "stream",
     "text": [
      "              precision    recall  f1-score   support\n",
      "\n",
      "           0       0.65      0.51      0.57      3184\n",
      "           1       0.60      0.72      0.65      3192\n",
      "\n",
      "    accuracy                           0.62      6376\n",
      "   macro avg       0.62      0.62      0.61      6376\n",
      "weighted avg       0.62      0.62      0.61      6376\n",
      "\n"
     ]
    }
   ],
   "source": [
    "print(classification_report(y_test_bin, y_predict))"
   ]
  },
  {
   "cell_type": "markdown",
   "metadata": {},
   "source": [
    "## Building ROC Curve:"
   ]
  },
  {
   "cell_type": "code",
   "execution_count": 287,
   "metadata": {},
   "outputs": [
    {
     "data": {
      "image/png": "[encoded data removed]",
      "text/plain": [
       "<Figure size 432x288 with 1 Axes>"
      ]
     },
     "metadata": {
      "needs_background": "light"
     },
     "output_type": "display_data"
    }
   ],
   "source": [
    "rf_roc_auc = roc_auc_score(y_test_bin, rf_model.predict(X2_test))\n",
    "fpr, tpr, thresholds = roc_curve(y_test_bin, rf_model.predict_proba(X2_test)[:,1])\n",
    "plt.figure()\n",
    "plt.plot(fpr, tpr, label='Random Forest (area = %0.2f)' % rf_roc_auc)\n",
    "plt.plot([0, 1], [0, 1],'r--')\n",
    "plt.xlim([0.0, 1.0])\n",
    "plt.ylim([0.0, 1.05])\n",
    "plt.xlabel('False Positive Rate')\n",
    "plt.ylabel('True Positive Rate')\n",
    "plt.title('Features')\n",
    "plt.legend(loc=\"lower right\")\n",
    "plt.savefig('img/Random Forest ROC')\n",
    "plt.show()"
   ]
  },
  {
   "cell_type": "markdown",
   "metadata": {},
   "source": [
    "## Calculataing Gini Importance of Each Feature:"
   ]
  },
  {
   "cell_type": "code",
   "execution_count": 288,
   "metadata": {},
   "outputs": [],
   "source": [
    "features = list(X2.columns)"
   ]
  },
  {
   "cell_type": "code",
   "execution_count": 289,
   "metadata": {},
   "outputs": [
    {
     "data": {
      "image/png": "[encoded data removed]",
      "text/plain": [
       "<Figure size 720x576 with 1 Axes>"
      ]
     },
     "metadata": {
      "needs_background": "light"
     },
     "output_type": "display_data"
    }
   ],
   "source": [
    "# Plot the feature importance\n",
    "feat_scores = pd.Series(rf_model.feature_importances_,\n",
    "                           index=X2.columns)\n",
    "feat_scores = feat_scores.sort_values()\n",
    "ax = feat_scores.plot(kind='barh', \n",
    "                      figsize=(10,8),\n",
    "                      color='b')\n",
    "ax.set_title('Average Gini Importance')\n",
    "ax.set_xlabel('Average contribution to information gain')\n",
    "plt.savefig('img/Gini Importance')"
   ]
  },
  {
   "cell_type": "markdown",
   "metadata": {},
   "source": [
    "# Gradient Boosting Classifier:"
   ]
  },
  {
   "cell_type": "code",
   "execution_count": 290,
   "metadata": {},
   "outputs": [],
   "source": [
    "from sklearn.datasets import make_classification\n",
    "from sklearn.ensemble import GradientBoostingClassifier"
   ]
  },
  {
   "cell_type": "code",
   "execution_count": 291,
   "metadata": {},
   "outputs": [],
   "source": [
    "clf = GradientBoostingClassifier(random_state=0)"
   ]
  },
  {
   "cell_type": "code",
   "execution_count": 292,
   "metadata": {},
   "outputs": [
    {
     "data": {
      "text/plain": [
       "GradientBoostingClassifier(ccp_alpha=0.0, criterion='friedman_mse', init=None,\n",
       "                           learning_rate=0.1, loss='deviance', max_depth=3,\n",
       "                           max_features=None, max_leaf_nodes=None,\n",
       "                           min_impurity_decrease=0.0, min_impurity_split=None,\n",
       "                           min_samples_leaf=1, min_samples_split=2,\n",
       "                           min_weight_fraction_leaf=0.0, n_estimators=100,\n",
       "                           n_iter_no_change=None, presort='deprecated',\n",
       "                           random_state=0, subsample=1.0, tol=0.0001,\n",
       "                           validation_fraction=0.1, verbose=0,\n",
       "                           warm_start=False)"
      ]
     },
     "execution_count": 292,
     "metadata": {},
     "output_type": "execute_result"
    }
   ],
   "source": [
    "clf.fit(X2_train, y_train_bin)"
   ]
  },
  {
   "cell_type": "code",
   "execution_count": 293,
   "metadata": {},
   "outputs": [],
   "source": [
    "y_pred = clf.predict(X2_test)"
   ]
  },
  {
   "cell_type": "code",
   "execution_count": 294,
   "metadata": {},
   "outputs": [
    {
     "data": {
      "text/plain": [
       "0.6223330260003689"
      ]
     },
     "execution_count": 294,
     "metadata": {},
     "output_type": "execute_result"
    }
   ],
   "source": [
    "cross_val_score(clf, X2_test, y_test_bin, cv=5).mean()"
   ]
  },
  {
   "cell_type": "markdown",
   "metadata": {},
   "source": [
    "## Tunning Gradient Boosting Classifiyer:"
   ]
  },
  {
   "cell_type": "code",
   "execution_count": 295,
   "metadata": {},
   "outputs": [],
   "source": [
    "# Tuned Parameters:\n",
    "n_estimators = [5,10,50]\n",
    "max_depth = [3,5,10]\n",
    "min_samples_split = [2,3,5]\n",
    "min_samples_leaf = [30,50,70]\n",
    "subsample = [0.3,0.5,0.8]\n",
    "param_grid = dict(n_estimators=n_estimators, max_depth=max_depth,min_samples_split=min_samples_split,subsample=subsample,min_samples_leaf=min_samples_leaf)"
   ]
  },
  {
   "cell_type": "code",
   "execution_count": 296,
   "metadata": {},
   "outputs": [],
   "source": [
    "clf = GradientBoostingClassifier(learning_rate=0.1, min_samples_split=500,min_samples_leaf=50,max_depth=8,subsample=0.8,random_state=10)"
   ]
  },
  {
   "cell_type": "code",
   "execution_count": 297,
   "metadata": {},
   "outputs": [],
   "source": [
    "from sklearn.model_selection import RandomizedSearchCV"
   ]
  },
  {
   "cell_type": "code",
   "execution_count": 298,
   "metadata": {},
   "outputs": [],
   "source": [
    "# clf = GradientBoostingClassifier(learning_rate=0.1, min_samples_split=500,min_samples_leaf=50,max_depth=8,subsample=0.8,random_state=10,max_features='sqrt')\n",
    "# grid = GridSearchCV(estimator=clf, param_grid=param_grid, cv = 5, n_jobs = -1)\n",
    "# # Timing\n",
    "# start_time = time.time()\n",
    "# grid_result = grid.fit(X2_train, y_train_bin)\n",
    "# # Summarize results\n",
    "# print(\"Best: %f using %s\" % (grid_result.best_score_, grid_result.best_params_))\n",
    "# print(\"Execution time: \" + str((time.time() - start_time)) + ' ms')"
   ]
  },
  {
   "cell_type": "markdown",
   "metadata": {},
   "source": [
    "Best: 0.665987 using {'max_depth': 10, 'min_samples_leaf': 30, 'min_samples_split': 2, 'n_estimators': 50, 'subsample': 0.8}\n",
    "Execution time: 830.4736409187317 ms"
   ]
  },
  {
   "cell_type": "code",
   "execution_count": 303,
   "metadata": {},
   "outputs": [],
   "source": [
    "# Improved Model:\n",
    "clf = GradientBoostingClassifier(learning_rate=0.1,random_state=10, max_depth = 10,min_samples_leaf = 30, min_samples_split = 2, n_estimators = 50, subsample = 0.8)"
   ]
  },
  {
   "cell_type": "code",
   "execution_count": 304,
   "metadata": {},
   "outputs": [
    {
     "data": {
      "text/plain": [
       "GradientBoostingClassifier(ccp_alpha=0.0, criterion='friedman_mse', init=None,\n",
       "                           learning_rate=0.1, loss='deviance', max_depth=10,\n",
       "                           max_features=None, max_leaf_nodes=None,\n",
       "                           min_impurity_decrease=0.0, min_impurity_split=None,\n",
       "                           min_samples_leaf=30, min_samples_split=2,\n",
       "                           min_weight_fraction_leaf=0.0, n_estimators=50,\n",
       "                           n_iter_no_change=None, presort='deprecated',\n",
       "                           random_state=10, subsample=0.8, tol=0.0001,\n",
       "                           validation_fraction=0.1, verbose=0,\n",
       "                           warm_start=False)"
      ]
     },
     "execution_count": 304,
     "metadata": {},
     "output_type": "execute_result"
    }
   ],
   "source": [
    "clf.fit(X2_train, y_train_bin)"
   ]
  },
  {
   "cell_type": "code",
   "execution_count": 305,
   "metadata": {},
   "outputs": [],
   "source": [
    "y_pred = clf.predict(X2_test)"
   ]
  },
  {
   "cell_type": "markdown",
   "metadata": {},
   "source": [
    "## Using Cross Validation Score Method to get Accuracy of Gradient Boosting Classifier:"
   ]
  },
  {
   "cell_type": "code",
   "execution_count": 306,
   "metadata": {},
   "outputs": [
    {
     "name": "stdout",
     "output_type": "stream",
     "text": [
      "0.6260981006822792\n"
     ]
    }
   ],
   "source": [
    "score = cross_val_score(clf, X2_test, y_test_bin, cv=5).mean()\n",
    "print(score)"
   ]
  },
  {
   "cell_type": "markdown",
   "metadata": {},
   "source": [
    "## Confusion Matrix for Gradient Boosting Classifier Model:"
   ]
  },
  {
   "cell_type": "code",
   "execution_count": 308,
   "metadata": {},
   "outputs": [
    {
     "name": "stdout",
     "output_type": "stream",
     "text": [
      "[[1638 1546]\n",
      " [ 885 2307]]\n"
     ]
    }
   ],
   "source": [
    "cm = confusion_matrix(y_test_bin, y_predict)\n",
    "print(cm)"
   ]
  },
  {
   "cell_type": "markdown",
   "metadata": {},
   "source": [
    "## Confusion Matrix Visualization:"
   ]
  },
  {
   "cell_type": "code",
   "execution_count": 309,
   "metadata": {},
   "outputs": [
    {
     "data": {
      "image/png": "[encoded data removed]",
      "text/plain": [
       "<Figure size 648x648 with 2 Axes>"
      ]
     },
     "metadata": {
      "needs_background": "light"
     },
     "output_type": "display_data"
    }
   ],
   "source": [
    "plt.figure(figsize=(9,9))\n",
    "sns.heatmap(cm, annot=True, fmt=\".3f\", linewidths=.5, square = True, cmap = 'Blues_r');\n",
    "plt.ylabel('Actual label');\n",
    "plt.xlabel('Predicted label');\n",
    "all_sample_title = 'Accuracy Score: {0}'.format(score)\n",
    "plt.title(all_sample_title, size = 15)\n",
    "plt.savefig('img/Gradient Boosting Confusion Matrix.png')"
   ]
  },
  {
   "cell_type": "code",
   "execution_count": 310,
   "metadata": {},
   "outputs": [
    {
     "name": "stdout",
     "output_type": "stream",
     "text": [
      "              precision    recall  f1-score   support\n",
      "\n",
      "           0       0.65      0.51      0.57      3184\n",
      "           1       0.60      0.72      0.65      3192\n",
      "\n",
      "    accuracy                           0.62      6376\n",
      "   macro avg       0.62      0.62      0.61      6376\n",
      "weighted avg       0.62      0.62      0.61      6376\n",
      "\n"
     ]
    }
   ],
   "source": [
    "print(classification_report(y_test_bin, y_predict))"
   ]
  },
  {
   "cell_type": "markdown",
   "metadata": {},
   "source": [
    "## Building ROC Curve:"
   ]
  },
  {
   "cell_type": "code",
   "execution_count": 311,
   "metadata": {},
   "outputs": [
    {
     "data": {
      "image/png": "[encoded data removed]",
      "text/plain": [
       "<Figure size 432x288 with 1 Axes>"
      ]
     },
     "metadata": {
      "needs_background": "light"
     },
     "output_type": "display_data"
    }
   ],
   "source": [
    "clf_roc_auc = roc_auc_score(y_test_bin, clf.predict(X2_test))\n",
    "fpr, tpr, thresholds = roc_curve(y_test_bin, clf.predict_proba(X2_test)[:,1])\n",
    "plt.figure()\n",
    "plt.plot(fpr, tpr, label='Gradient Boosing  (area = %0.2f)' % rf_roc_auc)\n",
    "plt.plot([0, 1], [0, 1],'r--')\n",
    "plt.xlim([0.0, 1.0])\n",
    "plt.ylim([0.0, 1.05])\n",
    "plt.xlabel('False Positive Rate')\n",
    "plt.ylabel('True Positive Rate')\n",
    "plt.title('Features')\n",
    "plt.legend(loc=\"lower right\")\n",
    "plt.savefig('img/Gradient Boosting ROC')\n",
    "plt.show()"
   ]
  },
  {
   "cell_type": "markdown",
   "metadata": {},
   "source": [
    "## Final Score:"
   ]
  },
  {
   "cell_type": "code",
   "execution_count": 312,
   "metadata": {},
   "outputs": [
    {
     "name": "stdout",
     "output_type": "stream",
     "text": [
      "0.6817754077791719\n"
     ]
    }
   ],
   "source": [
    "score = clf.score(X2_test, y_test_bin)\n",
    "print(score)"
   ]
  }
 ],
 "metadata": {
  "kernelspec": {
   "display_name": "Python 3",
   "language": "python",
   "name": "python3"
  },
  "language_info": {
   "codemirror_mode": {
    "name": "ipython",
    "version": 3
   },
   "file_extension": ".py",
   "mimetype": "text/x-python",
   "name": "python",
   "nbconvert_exporter": "python",
   "pygments_lexer": "ipython3",
   "version": "3.7.6"
  }
 },
 "nbformat": 4,
 "nbformat_minor": 4
}
